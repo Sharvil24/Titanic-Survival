{
 "cells": [
  {
   "cell_type": "code",
   "execution_count": 1,
   "id": "65487954",
   "metadata": {
    "_cell_guid": "b1076dfc-b9ad-4769-8c92-a6c4dae69d19",
    "_uuid": "8f2839f25d086af736a60e9eeb907d3b93b6e0e5",
    "execution": {
     "iopub.execute_input": "2023-11-24T02:02:36.819576Z",
     "iopub.status.busy": "2023-11-24T02:02:36.819065Z",
     "iopub.status.idle": "2023-11-24T02:02:37.268991Z",
     "shell.execute_reply": "2023-11-24T02:02:37.267630Z"
    },
    "papermill": {
     "duration": 0.46648,
     "end_time": "2023-11-24T02:02:37.272557",
     "exception": false,
     "start_time": "2023-11-24T02:02:36.806077",
     "status": "completed"
    },
    "tags": []
   },
   "outputs": [
    {
     "name": "stdout",
     "output_type": "stream",
     "text": [
      "/kaggle/input/titanic/train.csv\n",
      "/kaggle/input/titanic/test.csv\n",
      "/kaggle/input/titanic/gender_submission.csv\n"
     ]
    }
   ],
   "source": [
    "# This Python 3 environment comes with many helpful analytics libraries installed\n",
    "# It is defined by the kaggle/python Docker image: https://github.com/kaggle/docker-python\n",
    "# For example, here's several helpful packages to load\n",
    "\n",
    "import numpy as np # linear algebra\n",
    "import pandas as pd # data processing, CSV file I/O (e.g. pd.read_csv)\n",
    "\n",
    "# Input data files are available in the read-only \"../input/\" directory\n",
    "# For example, running this (by clicking run or pressing Shift+Enter) will list all files under the input directory\n",
    "\n",
    "import os\n",
    "for dirname, _, filenames in os.walk('/kaggle/input'):\n",
    "    for filename in filenames:\n",
    "        print(os.path.join(dirname, filename))\n",
    "\n",
    "# You can write up to 20GB to the current directory (/kaggle/working/) that gets preserved as output when you create a version using \"Save & Run All\" \n",
    "# You can also write temporary files to /kaggle/temp/, but they won't be saved outside of the current session"
   ]
  },
  {
   "cell_type": "code",
   "execution_count": 2,
   "id": "7b6fe1c0",
   "metadata": {
    "execution": {
     "iopub.execute_input": "2023-11-24T02:02:37.295589Z",
     "iopub.status.busy": "2023-11-24T02:02:37.295003Z",
     "iopub.status.idle": "2023-11-24T02:02:38.810495Z",
     "shell.execute_reply": "2023-11-24T02:02:38.809257Z"
    },
    "papermill": {
     "duration": 1.529898,
     "end_time": "2023-11-24T02:02:38.813124",
     "exception": false,
     "start_time": "2023-11-24T02:02:37.283226",
     "status": "completed"
    },
    "tags": []
   },
   "outputs": [],
   "source": [
    "import matplotlib.pyplot as plt\n",
    "import seaborn as sns"
   ]
  },
  {
   "cell_type": "code",
   "execution_count": 3,
   "id": "99379841",
   "metadata": {
    "execution": {
     "iopub.execute_input": "2023-11-24T02:02:38.836418Z",
     "iopub.status.busy": "2023-11-24T02:02:38.835343Z",
     "iopub.status.idle": "2023-11-24T02:02:38.867644Z",
     "shell.execute_reply": "2023-11-24T02:02:38.866794Z"
    },
    "papermill": {
     "duration": 0.04662,
     "end_time": "2023-11-24T02:02:38.870337",
     "exception": false,
     "start_time": "2023-11-24T02:02:38.823717",
     "status": "completed"
    },
    "tags": []
   },
   "outputs": [],
   "source": [
    "train = pd.read_csv('/kaggle/input/titanic/train.csv')\n",
    "test = pd.read_csv('/kaggle/input/titanic/test.csv')"
   ]
  },
  {
   "cell_type": "code",
   "execution_count": 4,
   "id": "2fde9bc4",
   "metadata": {
    "execution": {
     "iopub.execute_input": "2023-11-24T02:02:38.892455Z",
     "iopub.status.busy": "2023-11-24T02:02:38.891929Z",
     "iopub.status.idle": "2023-11-24T02:02:38.901269Z",
     "shell.execute_reply": "2023-11-24T02:02:38.899916Z"
    },
    "papermill": {
     "duration": 0.024106,
     "end_time": "2023-11-24T02:02:38.904702",
     "exception": false,
     "start_time": "2023-11-24T02:02:38.880596",
     "status": "completed"
    },
    "tags": []
   },
   "outputs": [
    {
     "name": "stdout",
     "output_type": "stream",
     "text": [
      "(418, 11)\n"
     ]
    },
    {
     "data": {
      "text/plain": [
       "(891, 12)"
      ]
     },
     "execution_count": 4,
     "metadata": {},
     "output_type": "execute_result"
    }
   ],
   "source": [
    "print(test.shape)\n",
    "train.shape"
   ]
  },
  {
   "cell_type": "code",
   "execution_count": 5,
   "id": "9c6103da",
   "metadata": {
    "execution": {
     "iopub.execute_input": "2023-11-24T02:02:38.928068Z",
     "iopub.status.busy": "2023-11-24T02:02:38.927677Z",
     "iopub.status.idle": "2023-11-24T02:02:38.961344Z",
     "shell.execute_reply": "2023-11-24T02:02:38.960094Z"
    },
    "papermill": {
     "duration": 0.048729,
     "end_time": "2023-11-24T02:02:38.964042",
     "exception": false,
     "start_time": "2023-11-24T02:02:38.915313",
     "status": "completed"
    },
    "tags": []
   },
   "outputs": [
    {
     "data": {
      "text/html": [
       "<div>\n",
       "<style scoped>\n",
       "    .dataframe tbody tr th:only-of-type {\n",
       "        vertical-align: middle;\n",
       "    }\n",
       "\n",
       "    .dataframe tbody tr th {\n",
       "        vertical-align: top;\n",
       "    }\n",
       "\n",
       "    .dataframe thead th {\n",
       "        text-align: right;\n",
       "    }\n",
       "</style>\n",
       "<table border=\"1\" class=\"dataframe\">\n",
       "  <thead>\n",
       "    <tr style=\"text-align: right;\">\n",
       "      <th></th>\n",
       "      <th>PassengerId</th>\n",
       "      <th>Survived</th>\n",
       "      <th>Pclass</th>\n",
       "      <th>Name</th>\n",
       "      <th>Sex</th>\n",
       "      <th>Age</th>\n",
       "      <th>SibSp</th>\n",
       "      <th>Parch</th>\n",
       "      <th>Ticket</th>\n",
       "      <th>Fare</th>\n",
       "      <th>Cabin</th>\n",
       "      <th>Embarked</th>\n",
       "    </tr>\n",
       "  </thead>\n",
       "  <tbody>\n",
       "    <tr>\n",
       "      <th>0</th>\n",
       "      <td>1</td>\n",
       "      <td>0</td>\n",
       "      <td>3</td>\n",
       "      <td>Braund, Mr. Owen Harris</td>\n",
       "      <td>male</td>\n",
       "      <td>22.0</td>\n",
       "      <td>1</td>\n",
       "      <td>0</td>\n",
       "      <td>A/5 21171</td>\n",
       "      <td>7.2500</td>\n",
       "      <td>NaN</td>\n",
       "      <td>S</td>\n",
       "    </tr>\n",
       "    <tr>\n",
       "      <th>1</th>\n",
       "      <td>2</td>\n",
       "      <td>1</td>\n",
       "      <td>1</td>\n",
       "      <td>Cumings, Mrs. John Bradley (Florence Briggs Th...</td>\n",
       "      <td>female</td>\n",
       "      <td>38.0</td>\n",
       "      <td>1</td>\n",
       "      <td>0</td>\n",
       "      <td>PC 17599</td>\n",
       "      <td>71.2833</td>\n",
       "      <td>C85</td>\n",
       "      <td>C</td>\n",
       "    </tr>\n",
       "    <tr>\n",
       "      <th>2</th>\n",
       "      <td>3</td>\n",
       "      <td>1</td>\n",
       "      <td>3</td>\n",
       "      <td>Heikkinen, Miss. Laina</td>\n",
       "      <td>female</td>\n",
       "      <td>26.0</td>\n",
       "      <td>0</td>\n",
       "      <td>0</td>\n",
       "      <td>STON/O2. 3101282</td>\n",
       "      <td>7.9250</td>\n",
       "      <td>NaN</td>\n",
       "      <td>S</td>\n",
       "    </tr>\n",
       "    <tr>\n",
       "      <th>3</th>\n",
       "      <td>4</td>\n",
       "      <td>1</td>\n",
       "      <td>1</td>\n",
       "      <td>Futrelle, Mrs. Jacques Heath (Lily May Peel)</td>\n",
       "      <td>female</td>\n",
       "      <td>35.0</td>\n",
       "      <td>1</td>\n",
       "      <td>0</td>\n",
       "      <td>113803</td>\n",
       "      <td>53.1000</td>\n",
       "      <td>C123</td>\n",
       "      <td>S</td>\n",
       "    </tr>\n",
       "    <tr>\n",
       "      <th>4</th>\n",
       "      <td>5</td>\n",
       "      <td>0</td>\n",
       "      <td>3</td>\n",
       "      <td>Allen, Mr. William Henry</td>\n",
       "      <td>male</td>\n",
       "      <td>35.0</td>\n",
       "      <td>0</td>\n",
       "      <td>0</td>\n",
       "      <td>373450</td>\n",
       "      <td>8.0500</td>\n",
       "      <td>NaN</td>\n",
       "      <td>S</td>\n",
       "    </tr>\n",
       "  </tbody>\n",
       "</table>\n",
       "</div>"
      ],
      "text/plain": [
       "   PassengerId  Survived  Pclass  \\\n",
       "0            1         0       3   \n",
       "1            2         1       1   \n",
       "2            3         1       3   \n",
       "3            4         1       1   \n",
       "4            5         0       3   \n",
       "\n",
       "                                                Name     Sex   Age  SibSp  \\\n",
       "0                            Braund, Mr. Owen Harris    male  22.0      1   \n",
       "1  Cumings, Mrs. John Bradley (Florence Briggs Th...  female  38.0      1   \n",
       "2                             Heikkinen, Miss. Laina  female  26.0      0   \n",
       "3       Futrelle, Mrs. Jacques Heath (Lily May Peel)  female  35.0      1   \n",
       "4                           Allen, Mr. William Henry    male  35.0      0   \n",
       "\n",
       "   Parch            Ticket     Fare Cabin Embarked  \n",
       "0      0         A/5 21171   7.2500   NaN        S  \n",
       "1      0          PC 17599  71.2833   C85        C  \n",
       "2      0  STON/O2. 3101282   7.9250   NaN        S  \n",
       "3      0            113803  53.1000  C123        S  \n",
       "4      0            373450   8.0500   NaN        S  "
      ]
     },
     "execution_count": 5,
     "metadata": {},
     "output_type": "execute_result"
    }
   ],
   "source": [
    "train.head()"
   ]
  },
  {
   "cell_type": "code",
   "execution_count": 6,
   "id": "04a441b7",
   "metadata": {
    "execution": {
     "iopub.execute_input": "2023-11-24T02:02:38.989073Z",
     "iopub.status.busy": "2023-11-24T02:02:38.987918Z",
     "iopub.status.idle": "2023-11-24T02:02:39.002335Z",
     "shell.execute_reply": "2023-11-24T02:02:39.000841Z"
    },
    "papermill": {
     "duration": 0.030036,
     "end_time": "2023-11-24T02:02:39.005074",
     "exception": false,
     "start_time": "2023-11-24T02:02:38.975038",
     "status": "completed"
    },
    "tags": []
   },
   "outputs": [
    {
     "data": {
      "text/plain": [
       "PassengerId      0\n",
       "Pclass           0\n",
       "Name             0\n",
       "Sex              0\n",
       "Age             86\n",
       "SibSp            0\n",
       "Parch            0\n",
       "Ticket           0\n",
       "Fare             1\n",
       "Cabin          327\n",
       "Embarked         0\n",
       "dtype: int64"
      ]
     },
     "execution_count": 6,
     "metadata": {},
     "output_type": "execute_result"
    }
   ],
   "source": [
    "test.isna().sum()"
   ]
  },
  {
   "cell_type": "markdown",
   "id": "0abfca98",
   "metadata": {
    "papermill": {
     "duration": 0.010694,
     "end_time": "2023-11-24T02:02:39.027609",
     "exception": false,
     "start_time": "2023-11-24T02:02:39.016915",
     "status": "completed"
    },
    "tags": []
   },
   "source": [
    "**DATA VISUALIZATION**"
   ]
  },
  {
   "cell_type": "code",
   "execution_count": 7,
   "id": "96db2b92",
   "metadata": {
    "execution": {
     "iopub.execute_input": "2023-11-24T02:02:39.051921Z",
     "iopub.status.busy": "2023-11-24T02:02:39.050754Z",
     "iopub.status.idle": "2023-11-24T02:02:39.520475Z",
     "shell.execute_reply": "2023-11-24T02:02:39.519066Z"
    },
    "papermill": {
     "duration": 0.48503,
     "end_time": "2023-11-24T02:02:39.523572",
     "exception": false,
     "start_time": "2023-11-24T02:02:39.038542",
     "status": "completed"
    },
    "tags": []
   },
   "outputs": [
    {
     "name": "stdout",
     "output_type": "stream",
     "text": [
      "Percentage of Women who Survived : 74.20382165605095\n",
      "Percentage of Men who Survived : 18.890814558058924\n"
     ]
    },
    {
     "data": {
      "image/png": "[encoded data removed]",
      "text/plain": [
       "<Figure size 640x480 with 1 Axes>"
      ]
     },
     "metadata": {},
     "output_type": "display_data"
    }
   ],
   "source": [
    "sns.barplot(x='Sex', y='Survived', data=train)\n",
    "\n",
    "#Print percentages\n",
    "print('Percentage of Women who Survived :', train['Survived'][train['Sex'] == 'female'].value_counts(normalize=True)[1]*100)\n",
    "\n",
    "print('Percentage of Men who Survived :', train['Survived'][train['Sex'] == 'male'].value_counts(normalize=True)[1]*100)"
   ]
  },
  {
   "cell_type": "code",
   "execution_count": 8,
   "id": "2e771531",
   "metadata": {
    "execution": {
     "iopub.execute_input": "2023-11-24T02:02:39.549066Z",
     "iopub.status.busy": "2023-11-24T02:02:39.548651Z",
     "iopub.status.idle": "2023-11-24T02:02:39.926308Z",
     "shell.execute_reply": "2023-11-24T02:02:39.924963Z"
    },
    "papermill": {
     "duration": 0.393343,
     "end_time": "2023-11-24T02:02:39.928894",
     "exception": false,
     "start_time": "2023-11-24T02:02:39.535551",
     "status": "completed"
    },
    "tags": []
   },
   "outputs": [
    {
     "name": "stdout",
     "output_type": "stream",
     "text": [
      "Percentage of Pclass = 1 who Survived : 62.96296296296296\n",
      "Percentage of Pclass = 2 who Survived : 47.28260869565217\n",
      "Percentage of Pclass = 3 who Survived : 24.236252545824847\n"
     ]
    },
    {
     "data": {
      "image/png": "[encoded data removed]",
      "text/plain": [
       "<Figure size 640x480 with 1 Axes>"
      ]
     },
     "metadata": {},
     "output_type": "display_data"
    }
   ],
   "source": [
    "sns.barplot(x = 'Pclass', y = 'Survived', data=train)\n",
    "\n",
    "print('Percentage of Pclass = 1 who Survived :', train['Survived'][train['Pclass'] == 1].value_counts(normalize=True)[1]*100)\n",
    "\n",
    "print('Percentage of Pclass = 2 who Survived :', train['Survived'][train['Pclass'] == 2].value_counts(normalize=True)[1]*100)\n",
    "\n",
    "print('Percentage of Pclass = 3 who Survived :', train['Survived'][train['Pclass'] == 3].value_counts(normalize=True)[1]*100)"
   ]
  },
  {
   "cell_type": "code",
   "execution_count": 9,
   "id": "e6657858",
   "metadata": {
    "execution": {
     "iopub.execute_input": "2023-11-24T02:02:39.955592Z",
     "iopub.status.busy": "2023-11-24T02:02:39.954808Z",
     "iopub.status.idle": "2023-11-24T02:02:40.530398Z",
     "shell.execute_reply": "2023-11-24T02:02:40.529503Z"
    },
    "papermill": {
     "duration": 0.591743,
     "end_time": "2023-11-24T02:02:40.532874",
     "exception": false,
     "start_time": "2023-11-24T02:02:39.941131",
     "status": "completed"
    },
    "tags": []
   },
   "outputs": [
    {
     "data": {
      "image/png": "[encoded data removed]",
      "text/plain": [
       "<Figure size 640x480 with 1 Axes>"
      ]
     },
     "metadata": {},
     "output_type": "display_data"
    }
   ],
   "source": [
    "train.Age = train.Age.fillna(-0.5)\n",
    "test.Age = test.Age.fillna(-0.5)\n",
    "\n",
    "bins = [-1,0,5,12,18,24,35,60,np.inf]\n",
    "labels = ['Unknowm', 'Baby', 'Child', 'Teenager', 'Student', 'Young Adult', 'Adult', 'Senior']\n",
    "\n",
    "train['AgeGroup'] = pd.cut(train['Age'],bins,labels = labels)\n",
    "test['AgeGroup'] = pd.cut(test['Age'],bins,labels = labels)\n",
    "\n",
    "sns.barplot(x = 'AgeGroup', y = 'Survived', data = train)\n",
    "plt.show()"
   ]
  },
  {
   "cell_type": "code",
   "execution_count": 10,
   "id": "1b1604ec",
   "metadata": {
    "execution": {
     "iopub.execute_input": "2023-11-24T02:02:40.561753Z",
     "iopub.status.busy": "2023-11-24T02:02:40.560492Z",
     "iopub.status.idle": "2023-11-24T02:02:40.569453Z",
     "shell.execute_reply": "2023-11-24T02:02:40.568253Z"
    },
    "papermill": {
     "duration": 0.026384,
     "end_time": "2023-11-24T02:02:40.572192",
     "exception": false,
     "start_time": "2023-11-24T02:02:40.545808",
     "status": "completed"
    },
    "tags": []
   },
   "outputs": [
    {
     "data": {
      "text/plain": [
       "Index(['PassengerId', 'Survived', 'Pclass', 'Name', 'Sex', 'Age', 'SibSp',\n",
       "       'Parch', 'Ticket', 'Fare', 'Cabin', 'Embarked', 'AgeGroup'],\n",
       "      dtype='object')"
      ]
     },
     "execution_count": 10,
     "metadata": {},
     "output_type": "execute_result"
    }
   ],
   "source": [
    "train.columns"
   ]
  },
  {
   "cell_type": "code",
   "execution_count": 11,
   "id": "90a4a985",
   "metadata": {
    "execution": {
     "iopub.execute_input": "2023-11-24T02:02:40.600839Z",
     "iopub.status.busy": "2023-11-24T02:02:40.600355Z",
     "iopub.status.idle": "2023-11-24T02:02:40.608938Z",
     "shell.execute_reply": "2023-11-24T02:02:40.607432Z"
    },
    "papermill": {
     "duration": 0.026491,
     "end_time": "2023-11-24T02:02:40.611751",
     "exception": false,
     "start_time": "2023-11-24T02:02:40.585260",
     "status": "completed"
    },
    "tags": []
   },
   "outputs": [],
   "source": [
    "train = train.drop(['Ticket', 'Cabin', 'Fare'], axis = 1)\n",
    "test = test.drop(['Ticket', 'Cabin', 'Fare'], axis = 1)"
   ]
  },
  {
   "cell_type": "markdown",
   "id": "8d7bcf78",
   "metadata": {
    "papermill": {
     "duration": 0.013723,
     "end_time": "2023-11-24T02:02:40.638949",
     "exception": false,
     "start_time": "2023-11-24T02:02:40.625226",
     "status": "completed"
    },
    "tags": []
   },
   "source": [
    "**Dealing with missing values**"
   ]
  },
  {
   "cell_type": "code",
   "execution_count": 12,
   "id": "9c418845",
   "metadata": {
    "execution": {
     "iopub.execute_input": "2023-11-24T02:02:40.670986Z",
     "iopub.status.busy": "2023-11-24T02:02:40.670570Z",
     "iopub.status.idle": "2023-11-24T02:02:40.683275Z",
     "shell.execute_reply": "2023-11-24T02:02:40.681882Z"
    },
    "papermill": {
     "duration": 0.030311,
     "end_time": "2023-11-24T02:02:40.685929",
     "exception": false,
     "start_time": "2023-11-24T02:02:40.655618",
     "status": "completed"
    },
    "tags": []
   },
   "outputs": [
    {
     "name": "stdout",
     "output_type": "stream",
     "text": [
      "Number of people embarking in Southampton (S) : \n",
      "644\n",
      "Number of people embarking in Cherbourg (C) : \n",
      "168\n",
      "Number of people embarking in Queenstown (Q) : \n",
      "77\n"
     ]
    }
   ],
   "source": [
    "print('Number of people embarking in Southampton (S) : ')\n",
    "southampton = train[train['Embarked'] == 'S'].shape[0]\n",
    "print(southampton)\n",
    "\n",
    "print('Number of people embarking in Cherbourg (C) : ')\n",
    "cher = train[train['Embarked'] == 'C'].shape[0]\n",
    "print(cher)\n",
    "\n",
    "print('Number of people embarking in Queenstown (Q) : ')\n",
    "queen = train[train['Embarked'] == 'Q'].shape[0]\n",
    "print(queen)"
   ]
  },
  {
   "cell_type": "code",
   "execution_count": 13,
   "id": "d2c47a5c",
   "metadata": {
    "execution": {
     "iopub.execute_input": "2023-11-24T02:02:40.714407Z",
     "iopub.status.busy": "2023-11-24T02:02:40.713624Z",
     "iopub.status.idle": "2023-11-24T02:02:40.719121Z",
     "shell.execute_reply": "2023-11-24T02:02:40.718329Z"
    },
    "papermill": {
     "duration": 0.022449,
     "end_time": "2023-11-24T02:02:40.721589",
     "exception": false,
     "start_time": "2023-11-24T02:02:40.699140",
     "status": "completed"
    },
    "tags": []
   },
   "outputs": [],
   "source": [
    "train = train.fillna({'Embarked' : 'S'})"
   ]
  },
  {
   "cell_type": "code",
   "execution_count": 14,
   "id": "613dcdc8",
   "metadata": {
    "execution": {
     "iopub.execute_input": "2023-11-24T02:02:40.749410Z",
     "iopub.status.busy": "2023-11-24T02:02:40.748737Z",
     "iopub.status.idle": "2023-11-24T02:02:40.757128Z",
     "shell.execute_reply": "2023-11-24T02:02:40.756205Z"
    },
    "papermill": {
     "duration": 0.024605,
     "end_time": "2023-11-24T02:02:40.759366",
     "exception": false,
     "start_time": "2023-11-24T02:02:40.734761",
     "status": "completed"
    },
    "tags": []
   },
   "outputs": [
    {
     "data": {
      "text/plain": [
       "PassengerId    0\n",
       "Pclass         0\n",
       "Name           0\n",
       "Sex            0\n",
       "Age            0\n",
       "SibSp          0\n",
       "Parch          0\n",
       "Embarked       0\n",
       "AgeGroup       0\n",
       "dtype: int64"
      ]
     },
     "execution_count": 14,
     "metadata": {},
     "output_type": "execute_result"
    }
   ],
   "source": [
    "test.isna().sum()"
   ]
  },
  {
   "cell_type": "code",
   "execution_count": 15,
   "id": "f3b7f4d7",
   "metadata": {
    "execution": {
     "iopub.execute_input": "2023-11-24T02:02:40.787109Z",
     "iopub.status.busy": "2023-11-24T02:02:40.786360Z",
     "iopub.status.idle": "2023-11-24T02:02:40.819586Z",
     "shell.execute_reply": "2023-11-24T02:02:40.818731Z"
    },
    "papermill": {
     "duration": 0.049936,
     "end_time": "2023-11-24T02:02:40.822025",
     "exception": false,
     "start_time": "2023-11-24T02:02:40.772089",
     "status": "completed"
    },
    "tags": []
   },
   "outputs": [
    {
     "data": {
      "text/html": [
       "<div>\n",
       "<style scoped>\n",
       "    .dataframe tbody tr th:only-of-type {\n",
       "        vertical-align: middle;\n",
       "    }\n",
       "\n",
       "    .dataframe tbody tr th {\n",
       "        vertical-align: top;\n",
       "    }\n",
       "\n",
       "    .dataframe thead th {\n",
       "        text-align: right;\n",
       "    }\n",
       "</style>\n",
       "<table border=\"1\" class=\"dataframe\">\n",
       "  <thead>\n",
       "    <tr style=\"text-align: right;\">\n",
       "      <th>Sex</th>\n",
       "      <th>female</th>\n",
       "      <th>male</th>\n",
       "    </tr>\n",
       "    <tr>\n",
       "      <th>Title</th>\n",
       "      <th></th>\n",
       "      <th></th>\n",
       "    </tr>\n",
       "  </thead>\n",
       "  <tbody>\n",
       "    <tr>\n",
       "      <th>Capt</th>\n",
       "      <td>0</td>\n",
       "      <td>1</td>\n",
       "    </tr>\n",
       "    <tr>\n",
       "      <th>Col</th>\n",
       "      <td>0</td>\n",
       "      <td>2</td>\n",
       "    </tr>\n",
       "    <tr>\n",
       "      <th>Countess</th>\n",
       "      <td>1</td>\n",
       "      <td>0</td>\n",
       "    </tr>\n",
       "    <tr>\n",
       "      <th>Don</th>\n",
       "      <td>0</td>\n",
       "      <td>1</td>\n",
       "    </tr>\n",
       "    <tr>\n",
       "      <th>Dr</th>\n",
       "      <td>1</td>\n",
       "      <td>6</td>\n",
       "    </tr>\n",
       "    <tr>\n",
       "      <th>Jonkheer</th>\n",
       "      <td>0</td>\n",
       "      <td>1</td>\n",
       "    </tr>\n",
       "    <tr>\n",
       "      <th>Lady</th>\n",
       "      <td>1</td>\n",
       "      <td>0</td>\n",
       "    </tr>\n",
       "    <tr>\n",
       "      <th>Major</th>\n",
       "      <td>0</td>\n",
       "      <td>2</td>\n",
       "    </tr>\n",
       "    <tr>\n",
       "      <th>Master</th>\n",
       "      <td>0</td>\n",
       "      <td>40</td>\n",
       "    </tr>\n",
       "    <tr>\n",
       "      <th>Miss</th>\n",
       "      <td>182</td>\n",
       "      <td>0</td>\n",
       "    </tr>\n",
       "    <tr>\n",
       "      <th>Mlle</th>\n",
       "      <td>2</td>\n",
       "      <td>0</td>\n",
       "    </tr>\n",
       "    <tr>\n",
       "      <th>Mme</th>\n",
       "      <td>1</td>\n",
       "      <td>0</td>\n",
       "    </tr>\n",
       "    <tr>\n",
       "      <th>Mr</th>\n",
       "      <td>0</td>\n",
       "      <td>517</td>\n",
       "    </tr>\n",
       "    <tr>\n",
       "      <th>Mrs</th>\n",
       "      <td>125</td>\n",
       "      <td>0</td>\n",
       "    </tr>\n",
       "    <tr>\n",
       "      <th>Ms</th>\n",
       "      <td>1</td>\n",
       "      <td>0</td>\n",
       "    </tr>\n",
       "    <tr>\n",
       "      <th>Rev</th>\n",
       "      <td>0</td>\n",
       "      <td>6</td>\n",
       "    </tr>\n",
       "    <tr>\n",
       "      <th>Sir</th>\n",
       "      <td>0</td>\n",
       "      <td>1</td>\n",
       "    </tr>\n",
       "  </tbody>\n",
       "</table>\n",
       "</div>"
      ],
      "text/plain": [
       "Sex       female  male\n",
       "Title                 \n",
       "Capt           0     1\n",
       "Col            0     2\n",
       "Countess       1     0\n",
       "Don            0     1\n",
       "Dr             1     6\n",
       "Jonkheer       0     1\n",
       "Lady           1     0\n",
       "Major          0     2\n",
       "Master         0    40\n",
       "Miss         182     0\n",
       "Mlle           2     0\n",
       "Mme            1     0\n",
       "Mr             0   517\n",
       "Mrs          125     0\n",
       "Ms             1     0\n",
       "Rev            0     6\n",
       "Sir            0     1"
      ]
     },
     "execution_count": 15,
     "metadata": {},
     "output_type": "execute_result"
    }
   ],
   "source": [
    "combine = [train, test]\n",
    "\n",
    "for dataset in combine:\n",
    "    dataset['Title'] = dataset.Name.str.extract(' ([A-Za-z]+)\\.',expand = False)\n",
    "    \n",
    "\n",
    "pd.crosstab(train['Title'], train['Sex'])    "
   ]
  },
  {
   "cell_type": "code",
   "execution_count": 16,
   "id": "d904f596",
   "metadata": {
    "execution": {
     "iopub.execute_input": "2023-11-24T02:02:40.850415Z",
     "iopub.status.busy": "2023-11-24T02:02:40.849666Z",
     "iopub.status.idle": "2023-11-24T02:02:40.879063Z",
     "shell.execute_reply": "2023-11-24T02:02:40.877951Z"
    },
    "papermill": {
     "duration": 0.046606,
     "end_time": "2023-11-24T02:02:40.881723",
     "exception": false,
     "start_time": "2023-11-24T02:02:40.835117",
     "status": "completed"
    },
    "tags": []
   },
   "outputs": [
    {
     "data": {
      "text/html": [
       "<div>\n",
       "<style scoped>\n",
       "    .dataframe tbody tr th:only-of-type {\n",
       "        vertical-align: middle;\n",
       "    }\n",
       "\n",
       "    .dataframe tbody tr th {\n",
       "        vertical-align: top;\n",
       "    }\n",
       "\n",
       "    .dataframe thead th {\n",
       "        text-align: right;\n",
       "    }\n",
       "</style>\n",
       "<table border=\"1\" class=\"dataframe\">\n",
       "  <thead>\n",
       "    <tr style=\"text-align: right;\">\n",
       "      <th></th>\n",
       "      <th>Title</th>\n",
       "      <th>Survived</th>\n",
       "    </tr>\n",
       "  </thead>\n",
       "  <tbody>\n",
       "    <tr>\n",
       "      <th>0</th>\n",
       "      <td>Countess</td>\n",
       "      <td>1.000000</td>\n",
       "    </tr>\n",
       "    <tr>\n",
       "      <th>1</th>\n",
       "      <td>Master</td>\n",
       "      <td>0.575000</td>\n",
       "    </tr>\n",
       "    <tr>\n",
       "      <th>2</th>\n",
       "      <td>Miss</td>\n",
       "      <td>0.702703</td>\n",
       "    </tr>\n",
       "    <tr>\n",
       "      <th>3</th>\n",
       "      <td>Mr</td>\n",
       "      <td>0.156673</td>\n",
       "    </tr>\n",
       "    <tr>\n",
       "      <th>4</th>\n",
       "      <td>Mrs</td>\n",
       "      <td>0.793651</td>\n",
       "    </tr>\n",
       "    <tr>\n",
       "      <th>5</th>\n",
       "      <td>Rare</td>\n",
       "      <td>0.285714</td>\n",
       "    </tr>\n",
       "    <tr>\n",
       "      <th>6</th>\n",
       "      <td>Royal</td>\n",
       "      <td>1.000000</td>\n",
       "    </tr>\n",
       "  </tbody>\n",
       "</table>\n",
       "</div>"
      ],
      "text/plain": [
       "      Title  Survived\n",
       "0  Countess  1.000000\n",
       "1    Master  0.575000\n",
       "2      Miss  0.702703\n",
       "3        Mr  0.156673\n",
       "4       Mrs  0.793651\n",
       "5      Rare  0.285714\n",
       "6     Royal  1.000000"
      ]
     },
     "execution_count": 16,
     "metadata": {},
     "output_type": "execute_result"
    }
   ],
   "source": [
    "for dataset in combine:\n",
    "    dataset['Title'] = dataset['Title'].replace(['Lady', 'Capt', 'Col', 'Don', 'Dr', 'Major', 'Rev', 'Jonkheer', 'Dona'], 'Rare')\n",
    "    dataset['Title'] = dataset['Title'].replace(['Countless', 'Lady', 'Sir'], 'Royal')\n",
    "    dataset['Title'] = dataset['Title'].replace('Mlle', 'Miss')\n",
    "    dataset['Title'] = dataset['Title'].replace('Ms', 'Miss')\n",
    "    dataset['Title'] = dataset['Title'].replace('Mme', 'Mrs')\n",
    "    \n",
    "train[['Title', 'Survived']].groupby(['Title'], as_index = False).mean()    "
   ]
  },
  {
   "cell_type": "code",
   "execution_count": 17,
   "id": "c1b9d8c5",
   "metadata": {
    "execution": {
     "iopub.execute_input": "2023-11-24T02:02:40.911369Z",
     "iopub.status.busy": "2023-11-24T02:02:40.910927Z",
     "iopub.status.idle": "2023-11-24T02:02:40.934508Z",
     "shell.execute_reply": "2023-11-24T02:02:40.933257Z"
    },
    "papermill": {
     "duration": 0.041983,
     "end_time": "2023-11-24T02:02:40.937112",
     "exception": false,
     "start_time": "2023-11-24T02:02:40.895129",
     "status": "completed"
    },
    "tags": []
   },
   "outputs": [
    {
     "data": {
      "text/html": [
       "<div>\n",
       "<style scoped>\n",
       "    .dataframe tbody tr th:only-of-type {\n",
       "        vertical-align: middle;\n",
       "    }\n",
       "\n",
       "    .dataframe tbody tr th {\n",
       "        vertical-align: top;\n",
       "    }\n",
       "\n",
       "    .dataframe thead th {\n",
       "        text-align: right;\n",
       "    }\n",
       "</style>\n",
       "<table border=\"1\" class=\"dataframe\">\n",
       "  <thead>\n",
       "    <tr style=\"text-align: right;\">\n",
       "      <th></th>\n",
       "      <th>PassengerId</th>\n",
       "      <th>Survived</th>\n",
       "      <th>Pclass</th>\n",
       "      <th>Name</th>\n",
       "      <th>Sex</th>\n",
       "      <th>Age</th>\n",
       "      <th>SibSp</th>\n",
       "      <th>Parch</th>\n",
       "      <th>Embarked</th>\n",
       "      <th>AgeGroup</th>\n",
       "      <th>Title</th>\n",
       "    </tr>\n",
       "  </thead>\n",
       "  <tbody>\n",
       "    <tr>\n",
       "      <th>0</th>\n",
       "      <td>1</td>\n",
       "      <td>0</td>\n",
       "      <td>3</td>\n",
       "      <td>Braund, Mr. Owen Harris</td>\n",
       "      <td>male</td>\n",
       "      <td>22.0</td>\n",
       "      <td>1</td>\n",
       "      <td>0</td>\n",
       "      <td>S</td>\n",
       "      <td>Student</td>\n",
       "      <td>1.0</td>\n",
       "    </tr>\n",
       "    <tr>\n",
       "      <th>1</th>\n",
       "      <td>2</td>\n",
       "      <td>1</td>\n",
       "      <td>1</td>\n",
       "      <td>Cumings, Mrs. John Bradley (Florence Briggs Th...</td>\n",
       "      <td>female</td>\n",
       "      <td>38.0</td>\n",
       "      <td>1</td>\n",
       "      <td>0</td>\n",
       "      <td>C</td>\n",
       "      <td>Adult</td>\n",
       "      <td>3.0</td>\n",
       "    </tr>\n",
       "    <tr>\n",
       "      <th>2</th>\n",
       "      <td>3</td>\n",
       "      <td>1</td>\n",
       "      <td>3</td>\n",
       "      <td>Heikkinen, Miss. Laina</td>\n",
       "      <td>female</td>\n",
       "      <td>26.0</td>\n",
       "      <td>0</td>\n",
       "      <td>0</td>\n",
       "      <td>S</td>\n",
       "      <td>Young Adult</td>\n",
       "      <td>2.0</td>\n",
       "    </tr>\n",
       "    <tr>\n",
       "      <th>3</th>\n",
       "      <td>4</td>\n",
       "      <td>1</td>\n",
       "      <td>1</td>\n",
       "      <td>Futrelle, Mrs. Jacques Heath (Lily May Peel)</td>\n",
       "      <td>female</td>\n",
       "      <td>35.0</td>\n",
       "      <td>1</td>\n",
       "      <td>0</td>\n",
       "      <td>S</td>\n",
       "      <td>Young Adult</td>\n",
       "      <td>3.0</td>\n",
       "    </tr>\n",
       "    <tr>\n",
       "      <th>4</th>\n",
       "      <td>5</td>\n",
       "      <td>0</td>\n",
       "      <td>3</td>\n",
       "      <td>Allen, Mr. William Henry</td>\n",
       "      <td>male</td>\n",
       "      <td>35.0</td>\n",
       "      <td>0</td>\n",
       "      <td>0</td>\n",
       "      <td>S</td>\n",
       "      <td>Young Adult</td>\n",
       "      <td>1.0</td>\n",
       "    </tr>\n",
       "  </tbody>\n",
       "</table>\n",
       "</div>"
      ],
      "text/plain": [
       "   PassengerId  Survived  Pclass  \\\n",
       "0            1         0       3   \n",
       "1            2         1       1   \n",
       "2            3         1       3   \n",
       "3            4         1       1   \n",
       "4            5         0       3   \n",
       "\n",
       "                                                Name     Sex   Age  SibSp  \\\n",
       "0                            Braund, Mr. Owen Harris    male  22.0      1   \n",
       "1  Cumings, Mrs. John Bradley (Florence Briggs Th...  female  38.0      1   \n",
       "2                             Heikkinen, Miss. Laina  female  26.0      0   \n",
       "3       Futrelle, Mrs. Jacques Heath (Lily May Peel)  female  35.0      1   \n",
       "4                           Allen, Mr. William Henry    male  35.0      0   \n",
       "\n",
       "   Parch Embarked     AgeGroup  Title  \n",
       "0      0        S      Student    1.0  \n",
       "1      0        C        Adult    3.0  \n",
       "2      0        S  Young Adult    2.0  \n",
       "3      0        S  Young Adult    3.0  \n",
       "4      0        S  Young Adult    1.0  "
      ]
     },
     "execution_count": 17,
     "metadata": {},
     "output_type": "execute_result"
    }
   ],
   "source": [
    "title_mapping = {'Mr':1, 'Miss':2, 'Mrs':3, 'Master':4, 'Royal':5, 'Rare':6}\n",
    "\n",
    "for dataset in combine:\n",
    "    dataset['Title'] = dataset['Title'].map(title_mapping)\n",
    "    dataset['Title'] = dataset['Title'].fillna(0)\n",
    "    \n",
    "train.head()    "
   ]
  },
  {
   "cell_type": "code",
   "execution_count": 18,
   "id": "717c91ff",
   "metadata": {
    "execution": {
     "iopub.execute_input": "2023-11-24T02:02:40.966961Z",
     "iopub.status.busy": "2023-11-24T02:02:40.966572Z",
     "iopub.status.idle": "2023-11-24T02:02:41.009961Z",
     "shell.execute_reply": "2023-11-24T02:02:41.008673Z"
    },
    "papermill": {
     "duration": 0.061357,
     "end_time": "2023-11-24T02:02:41.012788",
     "exception": false,
     "start_time": "2023-11-24T02:02:40.951431",
     "status": "completed"
    },
    "tags": []
   },
   "outputs": [],
   "source": [
    "mr_age = train[train['Title'] == 1]['AgeGroup'].mode() #Young Adult\n",
    "miss_age = train[train['Title'] == 2]['AgeGroup'].mode() #Student\n",
    "mrs_age = train[train['Title'] == 3]['AgeGroup'].mode() #Adult\n",
    "master_age = train[train['Title'] == 4]['AgeGroup'].mode() #Baby\n",
    "royal_age = train[train['Title'] == 5]['AgeGroup'].mode() #Adult\n",
    "rare_age = train[train['Title'] == 6]['AgeGroup'].mode() #Adult\n",
    "\n",
    "age_title_map = {1: 'Young Adult', 2: 'Student', 3: 'Adult', 4: 'Baby', 5: 'Adult', 6: 'Adult'}\n",
    "\n",
    "for i in range(len(train['AgeGroup'])):\n",
    "    if train['AgeGroup'][i] == 'Unknown':\n",
    "        train['AgeGroup'][i] = age_title_map[train['Title'][i]]\n",
    "\n",
    "for i in range(len(test['AgeGroup'])):\n",
    "    if test['AgeGroup'][i] == 'Unknown':\n",
    "        test['AgeGroup'][i] = age_title_map[train['Title'][i]]        "
   ]
  },
  {
   "cell_type": "code",
   "execution_count": 19,
   "id": "9a1a681e",
   "metadata": {
    "execution": {
     "iopub.execute_input": "2023-11-24T02:02:41.042847Z",
     "iopub.status.busy": "2023-11-24T02:02:41.042452Z",
     "iopub.status.idle": "2023-11-24T02:02:41.068853Z",
     "shell.execute_reply": "2023-11-24T02:02:41.067360Z"
    },
    "papermill": {
     "duration": 0.044271,
     "end_time": "2023-11-24T02:02:41.071400",
     "exception": false,
     "start_time": "2023-11-24T02:02:41.027129",
     "status": "completed"
    },
    "tags": []
   },
   "outputs": [
    {
     "data": {
      "text/html": [
       "<div>\n",
       "<style scoped>\n",
       "    .dataframe tbody tr th:only-of-type {\n",
       "        vertical-align: middle;\n",
       "    }\n",
       "\n",
       "    .dataframe tbody tr th {\n",
       "        vertical-align: top;\n",
       "    }\n",
       "\n",
       "    .dataframe thead th {\n",
       "        text-align: right;\n",
       "    }\n",
       "</style>\n",
       "<table border=\"1\" class=\"dataframe\">\n",
       "  <thead>\n",
       "    <tr style=\"text-align: right;\">\n",
       "      <th></th>\n",
       "      <th>PassengerId</th>\n",
       "      <th>Survived</th>\n",
       "      <th>Pclass</th>\n",
       "      <th>Name</th>\n",
       "      <th>Sex</th>\n",
       "      <th>Age</th>\n",
       "      <th>SibSp</th>\n",
       "      <th>Parch</th>\n",
       "      <th>Embarked</th>\n",
       "      <th>AgeGroup</th>\n",
       "      <th>Title</th>\n",
       "    </tr>\n",
       "  </thead>\n",
       "  <tbody>\n",
       "    <tr>\n",
       "      <th>0</th>\n",
       "      <td>1</td>\n",
       "      <td>0</td>\n",
       "      <td>3</td>\n",
       "      <td>Braund, Mr. Owen Harris</td>\n",
       "      <td>male</td>\n",
       "      <td>22.0</td>\n",
       "      <td>1</td>\n",
       "      <td>0</td>\n",
       "      <td>S</td>\n",
       "      <td>Student</td>\n",
       "      <td>1.0</td>\n",
       "    </tr>\n",
       "    <tr>\n",
       "      <th>1</th>\n",
       "      <td>2</td>\n",
       "      <td>1</td>\n",
       "      <td>1</td>\n",
       "      <td>Cumings, Mrs. John Bradley (Florence Briggs Th...</td>\n",
       "      <td>female</td>\n",
       "      <td>38.0</td>\n",
       "      <td>1</td>\n",
       "      <td>0</td>\n",
       "      <td>C</td>\n",
       "      <td>Adult</td>\n",
       "      <td>3.0</td>\n",
       "    </tr>\n",
       "    <tr>\n",
       "      <th>2</th>\n",
       "      <td>3</td>\n",
       "      <td>1</td>\n",
       "      <td>3</td>\n",
       "      <td>Heikkinen, Miss. Laina</td>\n",
       "      <td>female</td>\n",
       "      <td>26.0</td>\n",
       "      <td>0</td>\n",
       "      <td>0</td>\n",
       "      <td>S</td>\n",
       "      <td>Young Adult</td>\n",
       "      <td>2.0</td>\n",
       "    </tr>\n",
       "    <tr>\n",
       "      <th>3</th>\n",
       "      <td>4</td>\n",
       "      <td>1</td>\n",
       "      <td>1</td>\n",
       "      <td>Futrelle, Mrs. Jacques Heath (Lily May Peel)</td>\n",
       "      <td>female</td>\n",
       "      <td>35.0</td>\n",
       "      <td>1</td>\n",
       "      <td>0</td>\n",
       "      <td>S</td>\n",
       "      <td>Young Adult</td>\n",
       "      <td>3.0</td>\n",
       "    </tr>\n",
       "    <tr>\n",
       "      <th>4</th>\n",
       "      <td>5</td>\n",
       "      <td>0</td>\n",
       "      <td>3</td>\n",
       "      <td>Allen, Mr. William Henry</td>\n",
       "      <td>male</td>\n",
       "      <td>35.0</td>\n",
       "      <td>0</td>\n",
       "      <td>0</td>\n",
       "      <td>S</td>\n",
       "      <td>Young Adult</td>\n",
       "      <td>1.0</td>\n",
       "    </tr>\n",
       "    <tr>\n",
       "      <th>...</th>\n",
       "      <td>...</td>\n",
       "      <td>...</td>\n",
       "      <td>...</td>\n",
       "      <td>...</td>\n",
       "      <td>...</td>\n",
       "      <td>...</td>\n",
       "      <td>...</td>\n",
       "      <td>...</td>\n",
       "      <td>...</td>\n",
       "      <td>...</td>\n",
       "      <td>...</td>\n",
       "    </tr>\n",
       "    <tr>\n",
       "      <th>886</th>\n",
       "      <td>887</td>\n",
       "      <td>0</td>\n",
       "      <td>2</td>\n",
       "      <td>Montvila, Rev. Juozas</td>\n",
       "      <td>male</td>\n",
       "      <td>27.0</td>\n",
       "      <td>0</td>\n",
       "      <td>0</td>\n",
       "      <td>S</td>\n",
       "      <td>Young Adult</td>\n",
       "      <td>6.0</td>\n",
       "    </tr>\n",
       "    <tr>\n",
       "      <th>887</th>\n",
       "      <td>888</td>\n",
       "      <td>1</td>\n",
       "      <td>1</td>\n",
       "      <td>Graham, Miss. Margaret Edith</td>\n",
       "      <td>female</td>\n",
       "      <td>19.0</td>\n",
       "      <td>0</td>\n",
       "      <td>0</td>\n",
       "      <td>S</td>\n",
       "      <td>Student</td>\n",
       "      <td>2.0</td>\n",
       "    </tr>\n",
       "    <tr>\n",
       "      <th>888</th>\n",
       "      <td>889</td>\n",
       "      <td>0</td>\n",
       "      <td>3</td>\n",
       "      <td>Johnston, Miss. Catherine Helen \"Carrie\"</td>\n",
       "      <td>female</td>\n",
       "      <td>-0.5</td>\n",
       "      <td>1</td>\n",
       "      <td>2</td>\n",
       "      <td>S</td>\n",
       "      <td>Unknowm</td>\n",
       "      <td>2.0</td>\n",
       "    </tr>\n",
       "    <tr>\n",
       "      <th>889</th>\n",
       "      <td>890</td>\n",
       "      <td>1</td>\n",
       "      <td>1</td>\n",
       "      <td>Behr, Mr. Karl Howell</td>\n",
       "      <td>male</td>\n",
       "      <td>26.0</td>\n",
       "      <td>0</td>\n",
       "      <td>0</td>\n",
       "      <td>C</td>\n",
       "      <td>Young Adult</td>\n",
       "      <td>1.0</td>\n",
       "    </tr>\n",
       "    <tr>\n",
       "      <th>890</th>\n",
       "      <td>891</td>\n",
       "      <td>0</td>\n",
       "      <td>3</td>\n",
       "      <td>Dooley, Mr. Patrick</td>\n",
       "      <td>male</td>\n",
       "      <td>32.0</td>\n",
       "      <td>0</td>\n",
       "      <td>0</td>\n",
       "      <td>Q</td>\n",
       "      <td>Young Adult</td>\n",
       "      <td>1.0</td>\n",
       "    </tr>\n",
       "  </tbody>\n",
       "</table>\n",
       "<p>891 rows × 11 columns</p>\n",
       "</div>"
      ],
      "text/plain": [
       "     PassengerId  Survived  Pclass  \\\n",
       "0              1         0       3   \n",
       "1              2         1       1   \n",
       "2              3         1       3   \n",
       "3              4         1       1   \n",
       "4              5         0       3   \n",
       "..           ...       ...     ...   \n",
       "886          887         0       2   \n",
       "887          888         1       1   \n",
       "888          889         0       3   \n",
       "889          890         1       1   \n",
       "890          891         0       3   \n",
       "\n",
       "                                                  Name     Sex   Age  SibSp  \\\n",
       "0                              Braund, Mr. Owen Harris    male  22.0      1   \n",
       "1    Cumings, Mrs. John Bradley (Florence Briggs Th...  female  38.0      1   \n",
       "2                               Heikkinen, Miss. Laina  female  26.0      0   \n",
       "3         Futrelle, Mrs. Jacques Heath (Lily May Peel)  female  35.0      1   \n",
       "4                             Allen, Mr. William Henry    male  35.0      0   \n",
       "..                                                 ...     ...   ...    ...   \n",
       "886                              Montvila, Rev. Juozas    male  27.0      0   \n",
       "887                       Graham, Miss. Margaret Edith  female  19.0      0   \n",
       "888           Johnston, Miss. Catherine Helen \"Carrie\"  female  -0.5      1   \n",
       "889                              Behr, Mr. Karl Howell    male  26.0      0   \n",
       "890                                Dooley, Mr. Patrick    male  32.0      0   \n",
       "\n",
       "     Parch Embarked     AgeGroup  Title  \n",
       "0        0        S      Student    1.0  \n",
       "1        0        C        Adult    3.0  \n",
       "2        0        S  Young Adult    2.0  \n",
       "3        0        S  Young Adult    3.0  \n",
       "4        0        S  Young Adult    1.0  \n",
       "..     ...      ...          ...    ...  \n",
       "886      0        S  Young Adult    6.0  \n",
       "887      0        S      Student    2.0  \n",
       "888      2        S      Unknowm    2.0  \n",
       "889      0        C  Young Adult    1.0  \n",
       "890      0        Q  Young Adult    1.0  \n",
       "\n",
       "[891 rows x 11 columns]"
      ]
     },
     "execution_count": 19,
     "metadata": {},
     "output_type": "execute_result"
    }
   ],
   "source": [
    "train"
   ]
  },
  {
   "cell_type": "code",
   "execution_count": 20,
   "id": "3b73ee2a",
   "metadata": {
    "execution": {
     "iopub.execute_input": "2023-11-24T02:02:41.103027Z",
     "iopub.status.busy": "2023-11-24T02:02:41.102580Z",
     "iopub.status.idle": "2023-11-24T02:02:41.290605Z",
     "shell.execute_reply": "2023-11-24T02:02:41.289366Z"
    },
    "papermill": {
     "duration": 0.207403,
     "end_time": "2023-11-24T02:02:41.293737",
     "exception": false,
     "start_time": "2023-11-24T02:02:41.086334",
     "status": "completed"
    },
    "tags": []
   },
   "outputs": [],
   "source": [
    "from sklearn.preprocessing import LabelEncoder\n",
    "transform = ['Sex', 'AgeGroup', 'Embarked']\n",
    "\n",
    "le = LabelEncoder()\n",
    "\n",
    "for i in transform:\n",
    "    train[i] = le.fit_transform(train[i]) "
   ]
  },
  {
   "cell_type": "code",
   "execution_count": 21,
   "id": "71a19c02",
   "metadata": {
    "execution": {
     "iopub.execute_input": "2023-11-24T02:02:41.324960Z",
     "iopub.status.busy": "2023-11-24T02:02:41.324556Z",
     "iopub.status.idle": "2023-11-24T02:02:41.333450Z",
     "shell.execute_reply": "2023-11-24T02:02:41.331936Z"
    },
    "papermill": {
     "duration": 0.027519,
     "end_time": "2023-11-24T02:02:41.336023",
     "exception": false,
     "start_time": "2023-11-24T02:02:41.308504",
     "status": "completed"
    },
    "tags": []
   },
   "outputs": [],
   "source": [
    "for i in transform:\n",
    "    test[i] = le.fit_transform(test[i]) "
   ]
  },
  {
   "cell_type": "code",
   "execution_count": 22,
   "id": "335a57db",
   "metadata": {
    "execution": {
     "iopub.execute_input": "2023-11-24T02:02:41.366713Z",
     "iopub.status.busy": "2023-11-24T02:02:41.366292Z",
     "iopub.status.idle": "2023-11-24T02:02:41.382780Z",
     "shell.execute_reply": "2023-11-24T02:02:41.381332Z"
    },
    "papermill": {
     "duration": 0.034912,
     "end_time": "2023-11-24T02:02:41.385308",
     "exception": false,
     "start_time": "2023-11-24T02:02:41.350396",
     "status": "completed"
    },
    "tags": []
   },
   "outputs": [
    {
     "data": {
      "text/html": [
       "<div>\n",
       "<style scoped>\n",
       "    .dataframe tbody tr th:only-of-type {\n",
       "        vertical-align: middle;\n",
       "    }\n",
       "\n",
       "    .dataframe tbody tr th {\n",
       "        vertical-align: top;\n",
       "    }\n",
       "\n",
       "    .dataframe thead th {\n",
       "        text-align: right;\n",
       "    }\n",
       "</style>\n",
       "<table border=\"1\" class=\"dataframe\">\n",
       "  <thead>\n",
       "    <tr style=\"text-align: right;\">\n",
       "      <th></th>\n",
       "      <th>PassengerId</th>\n",
       "      <th>Pclass</th>\n",
       "      <th>Name</th>\n",
       "      <th>Sex</th>\n",
       "      <th>Age</th>\n",
       "      <th>SibSp</th>\n",
       "      <th>Parch</th>\n",
       "      <th>Embarked</th>\n",
       "      <th>AgeGroup</th>\n",
       "      <th>Title</th>\n",
       "    </tr>\n",
       "  </thead>\n",
       "  <tbody>\n",
       "    <tr>\n",
       "      <th>0</th>\n",
       "      <td>892</td>\n",
       "      <td>3</td>\n",
       "      <td>Kelly, Mr. James</td>\n",
       "      <td>1</td>\n",
       "      <td>34.5</td>\n",
       "      <td>0</td>\n",
       "      <td>0</td>\n",
       "      <td>1</td>\n",
       "      <td>7</td>\n",
       "      <td>1</td>\n",
       "    </tr>\n",
       "    <tr>\n",
       "      <th>1</th>\n",
       "      <td>893</td>\n",
       "      <td>3</td>\n",
       "      <td>Wilkes, Mrs. James (Ellen Needs)</td>\n",
       "      <td>0</td>\n",
       "      <td>47.0</td>\n",
       "      <td>1</td>\n",
       "      <td>0</td>\n",
       "      <td>2</td>\n",
       "      <td>0</td>\n",
       "      <td>3</td>\n",
       "    </tr>\n",
       "    <tr>\n",
       "      <th>2</th>\n",
       "      <td>894</td>\n",
       "      <td>2</td>\n",
       "      <td>Myles, Mr. Thomas Francis</td>\n",
       "      <td>1</td>\n",
       "      <td>62.0</td>\n",
       "      <td>0</td>\n",
       "      <td>0</td>\n",
       "      <td>1</td>\n",
       "      <td>3</td>\n",
       "      <td>1</td>\n",
       "    </tr>\n",
       "    <tr>\n",
       "      <th>3</th>\n",
       "      <td>895</td>\n",
       "      <td>3</td>\n",
       "      <td>Wirz, Mr. Albert</td>\n",
       "      <td>1</td>\n",
       "      <td>27.0</td>\n",
       "      <td>0</td>\n",
       "      <td>0</td>\n",
       "      <td>2</td>\n",
       "      <td>7</td>\n",
       "      <td>1</td>\n",
       "    </tr>\n",
       "    <tr>\n",
       "      <th>4</th>\n",
       "      <td>896</td>\n",
       "      <td>3</td>\n",
       "      <td>Hirvonen, Mrs. Alexander (Helga E Lindqvist)</td>\n",
       "      <td>0</td>\n",
       "      <td>22.0</td>\n",
       "      <td>1</td>\n",
       "      <td>1</td>\n",
       "      <td>2</td>\n",
       "      <td>4</td>\n",
       "      <td>3</td>\n",
       "    </tr>\n",
       "  </tbody>\n",
       "</table>\n",
       "</div>"
      ],
      "text/plain": [
       "   PassengerId  Pclass                                          Name  Sex  \\\n",
       "0          892       3                              Kelly, Mr. James    1   \n",
       "1          893       3              Wilkes, Mrs. James (Ellen Needs)    0   \n",
       "2          894       2                     Myles, Mr. Thomas Francis    1   \n",
       "3          895       3                              Wirz, Mr. Albert    1   \n",
       "4          896       3  Hirvonen, Mrs. Alexander (Helga E Lindqvist)    0   \n",
       "\n",
       "    Age  SibSp  Parch  Embarked  AgeGroup  Title  \n",
       "0  34.5      0      0         1         7      1  \n",
       "1  47.0      1      0         2         0      3  \n",
       "2  62.0      0      0         1         3      1  \n",
       "3  27.0      0      0         2         7      1  \n",
       "4  22.0      1      1         2         4      3  "
      ]
     },
     "execution_count": 22,
     "metadata": {},
     "output_type": "execute_result"
    }
   ],
   "source": [
    "test.head()"
   ]
  },
  {
   "cell_type": "markdown",
   "id": "09d46302",
   "metadata": {
    "papermill": {
     "duration": 0.013888,
     "end_time": "2023-11-24T02:02:41.414198",
     "exception": false,
     "start_time": "2023-11-24T02:02:41.400310",
     "status": "completed"
    },
    "tags": []
   },
   "source": [
    "**Machine Learning Model**"
   ]
  },
  {
   "cell_type": "code",
   "execution_count": 23,
   "id": "99b76166",
   "metadata": {
    "execution": {
     "iopub.execute_input": "2023-11-24T02:02:41.447554Z",
     "iopub.status.busy": "2023-11-24T02:02:41.447112Z",
     "iopub.status.idle": "2023-11-24T02:02:41.454953Z",
     "shell.execute_reply": "2023-11-24T02:02:41.453853Z"
    },
    "papermill": {
     "duration": 0.027235,
     "end_time": "2023-11-24T02:02:41.457369",
     "exception": false,
     "start_time": "2023-11-24T02:02:41.430134",
     "status": "completed"
    },
    "tags": []
   },
   "outputs": [],
   "source": [
    "X_train = train.drop(['PassengerId','Name','Survived'], axis = 1)\n",
    "Y_train = train['Survived']\n",
    "X_test = test.drop(['PassengerId', 'Name'],axis = 1)"
   ]
  },
  {
   "cell_type": "code",
   "execution_count": 24,
   "id": "7921d408",
   "metadata": {
    "execution": {
     "iopub.execute_input": "2023-11-24T02:02:41.489134Z",
     "iopub.status.busy": "2023-11-24T02:02:41.488721Z",
     "iopub.status.idle": "2023-11-24T02:02:41.751723Z",
     "shell.execute_reply": "2023-11-24T02:02:41.750266Z"
    },
    "papermill": {
     "duration": 0.282485,
     "end_time": "2023-11-24T02:02:41.754790",
     "exception": false,
     "start_time": "2023-11-24T02:02:41.472305",
     "status": "completed"
    },
    "tags": []
   },
   "outputs": [],
   "source": [
    "from sklearn.linear_model import LogisticRegression\n",
    "\n",
    "lr = LogisticRegression()\n",
    "lr.fit(X_train, Y_train)\n",
    "preds = lr.predict(X_test)"
   ]
  },
  {
   "cell_type": "code",
   "execution_count": 25,
   "id": "5377c0c8",
   "metadata": {
    "execution": {
     "iopub.execute_input": "2023-11-24T02:02:41.786105Z",
     "iopub.status.busy": "2023-11-24T02:02:41.785682Z",
     "iopub.status.idle": "2023-11-24T02:02:41.795670Z",
     "shell.execute_reply": "2023-11-24T02:02:41.794373Z"
    },
    "papermill": {
     "duration": 0.02862,
     "end_time": "2023-11-24T02:02:41.798114",
     "exception": false,
     "start_time": "2023-11-24T02:02:41.769494",
     "status": "completed"
    },
    "tags": []
   },
   "outputs": [
    {
     "data": {
      "text/plain": [
       "array([0, 1, 0, 0, 1, 0, 1, 0, 1, 0, 0, 0, 1, 0, 1, 1, 0, 0, 0, 1, 0, 0,\n",
       "       1, 0, 1, 0, 1, 0, 0, 0, 0, 0, 1, 1, 0, 0, 1, 1, 0, 0, 0, 1, 0, 1,\n",
       "       1, 0, 0, 0, 1, 1, 0, 0, 1, 1, 0, 0, 0, 0, 0, 1, 0, 0, 0, 1, 1, 1,\n",
       "       1, 0, 0, 1, 1, 0, 1, 0, 1, 0, 0, 1, 0, 1, 0, 0, 0, 0, 0, 0, 1, 1,\n",
       "       1, 0, 1, 0, 1, 0, 0, 0, 1, 0, 1, 0, 1, 0, 0, 0, 1, 0, 0, 0, 0, 0,\n",
       "       0, 1, 1, 1, 1, 0, 0, 1, 0, 1, 1, 0, 1, 0, 0, 1, 0, 1, 0, 0, 0, 1,\n",
       "       1, 0, 0, 0, 0, 0, 1, 0, 0, 1, 0, 0, 0, 0, 1, 0, 1, 1, 1, 0, 0, 1,\n",
       "       0, 0, 1, 1, 0, 1, 1, 0, 1, 0, 1, 1, 0, 0, 1, 1, 0, 0, 0, 0, 0, 1,\n",
       "       1, 0, 1, 1, 0, 0, 1, 0, 1, 0, 1, 0, 0, 0, 0, 1, 0, 0, 0, 0, 1, 1,\n",
       "       0, 1, 1, 0, 1, 1, 0, 1, 1, 0, 1, 0, 0, 0, 0, 1, 0, 0, 1, 0, 1, 0,\n",
       "       1, 0, 1, 0, 1, 1, 0, 1, 0, 0, 0, 1, 0, 0, 0, 0, 0, 0, 1, 1, 1, 1,\n",
       "       0, 0, 0, 0, 1, 0, 1, 1, 1, 0, 0, 0, 0, 0, 0, 0, 1, 0, 0, 0, 1, 1,\n",
       "       0, 0, 1, 0, 1, 0, 0, 0, 1, 1, 0, 1, 0, 0, 0, 0, 1, 0, 1, 1, 1, 0,\n",
       "       0, 0, 0, 0, 1, 1, 0, 1, 0, 0, 1, 0, 0, 0, 0, 0, 0, 0, 1, 1, 0, 0,\n",
       "       0, 1, 0, 0, 0, 1, 1, 1, 0, 0, 0, 0, 0, 0, 0, 0, 1, 0, 1, 0, 0, 0,\n",
       "       1, 0, 0, 1, 0, 0, 0, 0, 0, 0, 0, 0, 0, 1, 0, 1, 0, 1, 0, 1, 1, 0,\n",
       "       0, 0, 1, 0, 1, 0, 0, 1, 0, 1, 1, 0, 1, 1, 0, 1, 1, 0, 0, 1, 0, 0,\n",
       "       1, 1, 0, 0, 0, 0, 0, 0, 1, 1, 0, 1, 0, 0, 0, 0, 0, 1, 0, 0, 0, 1,\n",
       "       0, 1, 0, 0, 1, 0, 1, 0, 0, 0, 0, 0, 1, 1, 1, 1, 1, 0, 1, 0, 0, 0])"
      ]
     },
     "execution_count": 25,
     "metadata": {},
     "output_type": "execute_result"
    }
   ],
   "source": [
    "preds"
   ]
  },
  {
   "cell_type": "code",
   "execution_count": 26,
   "id": "fbcb19ee",
   "metadata": {
    "execution": {
     "iopub.execute_input": "2023-11-24T02:02:41.897635Z",
     "iopub.status.busy": "2023-11-24T02:02:41.897223Z",
     "iopub.status.idle": "2023-11-24T02:02:41.907597Z",
     "shell.execute_reply": "2023-11-24T02:02:41.906510Z"
    },
    "papermill": {
     "duration": 0.030184,
     "end_time": "2023-11-24T02:02:41.910090",
     "exception": false,
     "start_time": "2023-11-24T02:02:41.879906",
     "status": "completed"
    },
    "tags": []
   },
   "outputs": [],
   "source": [
    "ids =test['PassengerId']\n",
    "output = pd.DataFrame({'PassengerId' : ids, 'Survived' : preds})\n",
    "output.to_csv('submission.csv',index = False)"
   ]
  },
  {
   "cell_type": "code",
   "execution_count": null,
   "id": "db0ccf66",
   "metadata": {
    "papermill": {
     "duration": 0.015309,
     "end_time": "2023-11-24T02:02:41.940239",
     "exception": false,
     "start_time": "2023-11-24T02:02:41.924930",
     "status": "completed"
    },
    "tags": []
   },
   "outputs": [],
   "source": []
  },
  {
   "cell_type": "code",
   "execution_count": null,
   "id": "a0f77029",
   "metadata": {
    "papermill": {
     "duration": 0.014661,
     "end_time": "2023-11-24T02:02:41.969890",
     "exception": false,
     "start_time": "2023-11-24T02:02:41.955229",
     "status": "completed"
    },
    "tags": []
   },
   "outputs": [],
   "source": []
  },
  {
   "cell_type": "code",
   "execution_count": null,
   "id": "29f5a3b7",
   "metadata": {
    "papermill": {
     "duration": 0.01451,
     "end_time": "2023-11-24T02:02:41.999596",
     "exception": false,
     "start_time": "2023-11-24T02:02:41.985086",
     "status": "completed"
    },
    "tags": []
   },
   "outputs": [],
   "source": []
  }
 ],
 "metadata": {
  "kaggle": {
   "accelerator": "none",
   "dataSources": [
    {
     "databundleVersionId": 26502,
     "sourceId": 3136,
     "sourceType": "competition"
    }
   ],
   "dockerImageVersionId": 30587,
   "isGpuEnabled": false,
   "isInternetEnabled": false,
   "language": "python",
   "sourceType": "notebook"
  },
  "kernelspec": {
   "display_name": "Python 3",
   "language": "python",
   "name": "python3"
  },
  "language_info": {
   "codemirror_mode": {
    "name": "ipython",
    "version": 3
   },
   "file_extension": ".py",
   "mimetype": "text/x-python",
   "name": "python",
   "nbconvert_exporter": "python",
   "pygments_lexer": "ipython3",
   "version": "3.10.12"
  },
  "papermill": {
   "default_parameters": {},
   "duration": 9.433856,
   "end_time": "2023-11-24T02:02:42.637311",
   "environment_variables": {},
   "exception": null,
   "input_path": "__notebook__.ipynb",
   "output_path": "__notebook__.ipynb",
   "parameters": {},
   "start_time": "2023-11-24T02:02:33.203455",
   "version": "2.4.0"
  }
 },
 "nbformat": 4,
 "nbformat_minor": 5
}
