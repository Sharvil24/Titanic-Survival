{
 "cells": [
  {
   "cell_type": "code",
   "execution_count": 1,
   "id": "13ef3440",
   "metadata": {
    "_cell_guid": "b1076dfc-b9ad-4769-8c92-a6c4dae69d19",
    "_uuid": "8f2839f25d086af736a60e9eeb907d3b93b6e0e5",
    "execution": {
     "iopub.execute_input": "2023-11-24T01:01:19.280135Z",
     "iopub.status.busy": "2023-11-24T01:01:19.279734Z",
     "iopub.status.idle": "2023-11-24T01:01:19.584557Z",
     "shell.execute_reply": "2023-11-24T01:01:19.583092Z"
    },
    "papermill": {
     "duration": 0.316456,
     "end_time": "2023-11-24T01:01:19.587152",
     "exception": false,
     "start_time": "2023-11-24T01:01:19.270696",
     "status": "completed"
    },
    "tags": []
   },
   "outputs": [
    {
     "name": "stdout",
     "output_type": "stream",
     "text": [
      "/kaggle/input/titanic/train.csv\n",
      "/kaggle/input/titanic/test.csv\n",
      "/kaggle/input/titanic/gender_submission.csv\n"
     ]
    }
   ],
   "source": [
    "# This Python 3 environment comes with many helpful analytics libraries installed\n",
    "# It is defined by the kaggle/python Docker image: https://github.com/kaggle/docker-python\n",
    "# For example, here's several helpful packages to load\n",
    "\n",
    "import numpy as np # linear algebra\n",
    "import pandas as pd # data processing, CSV file I/O (e.g. pd.read_csv)\n",
    "\n",
    "# Input data files are available in the read-only \"../input/\" directory\n",
    "# For example, running this (by clicking run or pressing Shift+Enter) will list all files under the input directory\n",
    "\n",
    "import os\n",
    "for dirname, _, filenames in os.walk('/kaggle/input'):\n",
    "    for filename in filenames:\n",
    "        print(os.path.join(dirname, filename))\n",
    "\n",
    "# You can write up to 20GB to the current directory (/kaggle/working/) that gets preserved as output when you create a version using \"Save & Run All\" \n",
    "# You can also write temporary files to /kaggle/temp/, but they won't be saved outside of the current session"
   ]
  },
  {
   "cell_type": "code",
   "execution_count": 2,
   "id": "1a60ce8c",
   "metadata": {
    "execution": {
     "iopub.execute_input": "2023-11-24T01:01:19.600748Z",
     "iopub.status.busy": "2023-11-24T01:01:19.599815Z",
     "iopub.status.idle": "2023-11-24T01:01:20.876091Z",
     "shell.execute_reply": "2023-11-24T01:01:20.875361Z"
    },
    "papermill": {
     "duration": 1.285747,
     "end_time": "2023-11-24T01:01:20.878365",
     "exception": false,
     "start_time": "2023-11-24T01:01:19.592618",
     "status": "completed"
    },
    "tags": []
   },
   "outputs": [],
   "source": [
    "import matplotlib.pyplot as plt\n",
    "import seaborn as sns"
   ]
  },
  {
   "cell_type": "code",
   "execution_count": 3,
   "id": "10b9ad1e",
   "metadata": {
    "execution": {
     "iopub.execute_input": "2023-11-24T01:01:20.890747Z",
     "iopub.status.busy": "2023-11-24T01:01:20.890189Z",
     "iopub.status.idle": "2023-11-24T01:01:20.916648Z",
     "shell.execute_reply": "2023-11-24T01:01:20.915433Z"
    },
    "papermill": {
     "duration": 0.035521,
     "end_time": "2023-11-24T01:01:20.919120",
     "exception": false,
     "start_time": "2023-11-24T01:01:20.883599",
     "status": "completed"
    },
    "tags": []
   },
   "outputs": [],
   "source": [
    "train = pd.read_csv('/kaggle/input/titanic/train.csv')\n",
    "test = pd.read_csv('/kaggle/input/titanic/test.csv')"
   ]
  },
  {
   "cell_type": "code",
   "execution_count": 4,
   "id": "1610f6a4",
   "metadata": {
    "execution": {
     "iopub.execute_input": "2023-11-24T01:01:20.931092Z",
     "iopub.status.busy": "2023-11-24T01:01:20.930725Z",
     "iopub.status.idle": "2023-11-24T01:01:20.939294Z",
     "shell.execute_reply": "2023-11-24T01:01:20.937948Z"
    },
    "papermill": {
     "duration": 0.016882,
     "end_time": "2023-11-24T01:01:20.941341",
     "exception": false,
     "start_time": "2023-11-24T01:01:20.924459",
     "status": "completed"
    },
    "tags": []
   },
   "outputs": [
    {
     "name": "stdout",
     "output_type": "stream",
     "text": [
      "(418, 11)\n"
     ]
    },
    {
     "data": {
      "text/plain": [
       "(891, 12)"
      ]
     },
     "execution_count": 4,
     "metadata": {},
     "output_type": "execute_result"
    }
   ],
   "source": [
    "print(test.shape)\n",
    "train.shape"
   ]
  },
  {
   "cell_type": "code",
   "execution_count": 5,
   "id": "cef04c4f",
   "metadata": {
    "execution": {
     "iopub.execute_input": "2023-11-24T01:01:20.954540Z",
     "iopub.status.busy": "2023-11-24T01:01:20.954183Z",
     "iopub.status.idle": "2023-11-24T01:01:20.979905Z",
     "shell.execute_reply": "2023-11-24T01:01:20.978699Z"
    },
    "papermill": {
     "duration": 0.035459,
     "end_time": "2023-11-24T01:01:20.982007",
     "exception": false,
     "start_time": "2023-11-24T01:01:20.946548",
     "status": "completed"
    },
    "tags": []
   },
   "outputs": [
    {
     "data": {
      "text/html": [
       "<div>\n",
       "<style scoped>\n",
       "    .dataframe tbody tr th:only-of-type {\n",
       "        vertical-align: middle;\n",
       "    }\n",
       "\n",
       "    .dataframe tbody tr th {\n",
       "        vertical-align: top;\n",
       "    }\n",
       "\n",
       "    .dataframe thead th {\n",
       "        text-align: right;\n",
       "    }\n",
       "</style>\n",
       "<table border=\"1\" class=\"dataframe\">\n",
       "  <thead>\n",
       "    <tr style=\"text-align: right;\">\n",
       "      <th></th>\n",
       "      <th>PassengerId</th>\n",
       "      <th>Survived</th>\n",
       "      <th>Pclass</th>\n",
       "      <th>Name</th>\n",
       "      <th>Sex</th>\n",
       "      <th>Age</th>\n",
       "      <th>SibSp</th>\n",
       "      <th>Parch</th>\n",
       "      <th>Ticket</th>\n",
       "      <th>Fare</th>\n",
       "      <th>Cabin</th>\n",
       "      <th>Embarked</th>\n",
       "    </tr>\n",
       "  </thead>\n",
       "  <tbody>\n",
       "    <tr>\n",
       "      <th>0</th>\n",
       "      <td>1</td>\n",
       "      <td>0</td>\n",
       "      <td>3</td>\n",
       "      <td>Braund, Mr. Owen Harris</td>\n",
       "      <td>male</td>\n",
       "      <td>22.0</td>\n",
       "      <td>1</td>\n",
       "      <td>0</td>\n",
       "      <td>A/5 21171</td>\n",
       "      <td>7.2500</td>\n",
       "      <td>NaN</td>\n",
       "      <td>S</td>\n",
       "    </tr>\n",
       "    <tr>\n",
       "      <th>1</th>\n",
       "      <td>2</td>\n",
       "      <td>1</td>\n",
       "      <td>1</td>\n",
       "      <td>Cumings, Mrs. John Bradley (Florence Briggs Th...</td>\n",
       "      <td>female</td>\n",
       "      <td>38.0</td>\n",
       "      <td>1</td>\n",
       "      <td>0</td>\n",
       "      <td>PC 17599</td>\n",
       "      <td>71.2833</td>\n",
       "      <td>C85</td>\n",
       "      <td>C</td>\n",
       "    </tr>\n",
       "    <tr>\n",
       "      <th>2</th>\n",
       "      <td>3</td>\n",
       "      <td>1</td>\n",
       "      <td>3</td>\n",
       "      <td>Heikkinen, Miss. Laina</td>\n",
       "      <td>female</td>\n",
       "      <td>26.0</td>\n",
       "      <td>0</td>\n",
       "      <td>0</td>\n",
       "      <td>STON/O2. 3101282</td>\n",
       "      <td>7.9250</td>\n",
       "      <td>NaN</td>\n",
       "      <td>S</td>\n",
       "    </tr>\n",
       "    <tr>\n",
       "      <th>3</th>\n",
       "      <td>4</td>\n",
       "      <td>1</td>\n",
       "      <td>1</td>\n",
       "      <td>Futrelle, Mrs. Jacques Heath (Lily May Peel)</td>\n",
       "      <td>female</td>\n",
       "      <td>35.0</td>\n",
       "      <td>1</td>\n",
       "      <td>0</td>\n",
       "      <td>113803</td>\n",
       "      <td>53.1000</td>\n",
       "      <td>C123</td>\n",
       "      <td>S</td>\n",
       "    </tr>\n",
       "    <tr>\n",
       "      <th>4</th>\n",
       "      <td>5</td>\n",
       "      <td>0</td>\n",
       "      <td>3</td>\n",
       "      <td>Allen, Mr. William Henry</td>\n",
       "      <td>male</td>\n",
       "      <td>35.0</td>\n",
       "      <td>0</td>\n",
       "      <td>0</td>\n",
       "      <td>373450</td>\n",
       "      <td>8.0500</td>\n",
       "      <td>NaN</td>\n",
       "      <td>S</td>\n",
       "    </tr>\n",
       "  </tbody>\n",
       "</table>\n",
       "</div>"
      ],
      "text/plain": [
       "   PassengerId  Survived  Pclass  \\\n",
       "0            1         0       3   \n",
       "1            2         1       1   \n",
       "2            3         1       3   \n",
       "3            4         1       1   \n",
       "4            5         0       3   \n",
       "\n",
       "                                                Name     Sex   Age  SibSp  \\\n",
       "0                            Braund, Mr. Owen Harris    male  22.0      1   \n",
       "1  Cumings, Mrs. John Bradley (Florence Briggs Th...  female  38.0      1   \n",
       "2                             Heikkinen, Miss. Laina  female  26.0      0   \n",
       "3       Futrelle, Mrs. Jacques Heath (Lily May Peel)  female  35.0      1   \n",
       "4                           Allen, Mr. William Henry    male  35.0      0   \n",
       "\n",
       "   Parch            Ticket     Fare Cabin Embarked  \n",
       "0      0         A/5 21171   7.2500   NaN        S  \n",
       "1      0          PC 17599  71.2833   C85        C  \n",
       "2      0  STON/O2. 3101282   7.9250   NaN        S  \n",
       "3      0            113803  53.1000  C123        S  \n",
       "4      0            373450   8.0500   NaN        S  "
      ]
     },
     "execution_count": 5,
     "metadata": {},
     "output_type": "execute_result"
    }
   ],
   "source": [
    "train.head()"
   ]
  },
  {
   "cell_type": "code",
   "execution_count": 6,
   "id": "e297372e",
   "metadata": {
    "execution": {
     "iopub.execute_input": "2023-11-24T01:01:20.994769Z",
     "iopub.status.busy": "2023-11-24T01:01:20.994180Z",
     "iopub.status.idle": "2023-11-24T01:01:21.003625Z",
     "shell.execute_reply": "2023-11-24T01:01:21.002543Z"
    },
    "papermill": {
     "duration": 0.017827,
     "end_time": "2023-11-24T01:01:21.005341",
     "exception": false,
     "start_time": "2023-11-24T01:01:20.987514",
     "status": "completed"
    },
    "tags": []
   },
   "outputs": [
    {
     "data": {
      "text/plain": [
       "PassengerId      0\n",
       "Pclass           0\n",
       "Name             0\n",
       "Sex              0\n",
       "Age             86\n",
       "SibSp            0\n",
       "Parch            0\n",
       "Ticket           0\n",
       "Fare             1\n",
       "Cabin          327\n",
       "Embarked         0\n",
       "dtype: int64"
      ]
     },
     "execution_count": 6,
     "metadata": {},
     "output_type": "execute_result"
    }
   ],
   "source": [
    "test.isna().sum()"
   ]
  },
  {
   "cell_type": "markdown",
   "id": "be170ffd",
   "metadata": {
    "papermill": {
     "duration": 0.005508,
     "end_time": "2023-11-24T01:01:21.017450",
     "exception": false,
     "start_time": "2023-11-24T01:01:21.011942",
     "status": "completed"
    },
    "tags": []
   },
   "source": [
    "**DATA VISUALIZATION**"
   ]
  },
  {
   "cell_type": "code",
   "execution_count": 7,
   "id": "85ed4d28",
   "metadata": {
    "execution": {
     "iopub.execute_input": "2023-11-24T01:01:21.030712Z",
     "iopub.status.busy": "2023-11-24T01:01:21.030096Z",
     "iopub.status.idle": "2023-11-24T01:01:21.358144Z",
     "shell.execute_reply": "2023-11-24T01:01:21.357181Z"
    },
    "papermill": {
     "duration": 0.337022,
     "end_time": "2023-11-24T01:01:21.360152",
     "exception": false,
     "start_time": "2023-11-24T01:01:21.023130",
     "status": "completed"
    },
    "tags": []
   },
   "outputs": [
    {
     "name": "stdout",
     "output_type": "stream",
     "text": [
      "Percentage of Women who Survived : 74.20382165605095\n",
      "Percentage of Men who Survived : 18.890814558058924\n"
     ]
    },
    {
     "data": {
      "image/png": "[encoded data removed]",
      "text/plain": [
       "<Figure size 640x480 with 1 Axes>"
      ]
     },
     "metadata": {},
     "output_type": "display_data"
    }
   ],
   "source": [
    "sns.barplot(x='Sex', y='Survived', data=train)\n",
    "\n",
    "#Print percentages\n",
    "print('Percentage of Women who Survived :', train['Survived'][train['Sex'] == 'female'].value_counts(normalize=True)[1]*100)\n",
    "\n",
    "print('Percentage of Men who Survived :', train['Survived'][train['Sex'] == 'male'].value_counts(normalize=True)[1]*100)"
   ]
  },
  {
   "cell_type": "code",
   "execution_count": 8,
   "id": "10386640",
   "metadata": {
    "execution": {
     "iopub.execute_input": "2023-11-24T01:01:21.373952Z",
     "iopub.status.busy": "2023-11-24T01:01:21.373581Z",
     "iopub.status.idle": "2023-11-24T01:01:21.616168Z",
     "shell.execute_reply": "2023-11-24T01:01:21.614863Z"
    },
    "papermill": {
     "duration": 0.251845,
     "end_time": "2023-11-24T01:01:21.618182",
     "exception": false,
     "start_time": "2023-11-24T01:01:21.366337",
     "status": "completed"
    },
    "tags": []
   },
   "outputs": [
    {
     "name": "stdout",
     "output_type": "stream",
     "text": [
      "Percentage of Pclass = 1 who Survived : 62.96296296296296\n",
      "Percentage of Pclass = 2 who Survived : 47.28260869565217\n",
      "Percentage of Pclass = 3 who Survived : 24.236252545824847\n"
     ]
    },
    {
     "data": {
      "image/png": "[encoded data removed]",
      "text/plain": [
       "<Figure size 640x480 with 1 Axes>"
      ]
     },
     "metadata": {},
     "output_type": "display_data"
    }
   ],
   "source": [
    "sns.barplot(x = 'Pclass', y = 'Survived', data=train)\n",
    "\n",
    "print('Percentage of Pclass = 1 who Survived :', train['Survived'][train['Pclass'] == 1].value_counts(normalize=True)[1]*100)\n",
    "\n",
    "print('Percentage of Pclass = 2 who Survived :', train['Survived'][train['Pclass'] == 2].value_counts(normalize=True)[1]*100)\n",
    "\n",
    "print('Percentage of Pclass = 3 who Survived :', train['Survived'][train['Pclass'] == 3].value_counts(normalize=True)[1]*100)"
   ]
  },
  {
   "cell_type": "code",
   "execution_count": 9,
   "id": "6bb3a855",
   "metadata": {
    "execution": {
     "iopub.execute_input": "2023-11-24T01:01:21.632082Z",
     "iopub.status.busy": "2023-11-24T01:01:21.631679Z",
     "iopub.status.idle": "2023-11-24T01:01:21.976395Z",
     "shell.execute_reply": "2023-11-24T01:01:21.975216Z"
    },
    "papermill": {
     "duration": 0.354167,
     "end_time": "2023-11-24T01:01:21.978787",
     "exception": false,
     "start_time": "2023-11-24T01:01:21.624620",
     "status": "completed"
    },
    "tags": []
   },
   "outputs": [
    {
     "data": {
      "image/png": "[encoded data removed]",
      "text/plain": [
       "<Figure size 640x480 with 1 Axes>"
      ]
     },
     "metadata": {},
     "output_type": "display_data"
    }
   ],
   "source": [
    "train.Age = train.Age.fillna(-0.5)\n",
    "test.Age = test.Age.fillna(-0.5)\n",
    "\n",
    "bins = [-1,0,5,12,18,24,35,60,np.inf]\n",
    "labels = ['Unknowm', 'Baby', 'Child', 'Teenager', 'Student', 'Young Adult', 'Adult', 'Senior']\n",
    "\n",
    "train['AgeGroup'] = pd.cut(train['Age'],bins,labels = labels)\n",
    "test['AgeGroup'] = pd.cut(test['Age'],bins,labels = labels)\n",
    "\n",
    "sns.barplot(x = 'AgeGroup', y = 'Survived', data = train)\n",
    "plt.show()"
   ]
  },
  {
   "cell_type": "code",
   "execution_count": 10,
   "id": "e50cb0a3",
   "metadata": {
    "execution": {
     "iopub.execute_input": "2023-11-24T01:01:21.996569Z",
     "iopub.status.busy": "2023-11-24T01:01:21.996229Z",
     "iopub.status.idle": "2023-11-24T01:01:22.004716Z",
     "shell.execute_reply": "2023-11-24T01:01:22.003072Z"
    },
    "papermill": {
     "duration": 0.019095,
     "end_time": "2023-11-24T01:01:22.006825",
     "exception": false,
     "start_time": "2023-11-24T01:01:21.987730",
     "status": "completed"
    },
    "tags": []
   },
   "outputs": [
    {
     "data": {
      "text/plain": [
       "Index(['PassengerId', 'Survived', 'Pclass', 'Name', 'Sex', 'Age', 'SibSp',\n",
       "       'Parch', 'Ticket', 'Fare', 'Cabin', 'Embarked', 'AgeGroup'],\n",
       "      dtype='object')"
      ]
     },
     "execution_count": 10,
     "metadata": {},
     "output_type": "execute_result"
    }
   ],
   "source": [
    "train.columns"
   ]
  },
  {
   "cell_type": "code",
   "execution_count": 11,
   "id": "a6ad4e23",
   "metadata": {
    "execution": {
     "iopub.execute_input": "2023-11-24T01:01:22.021605Z",
     "iopub.status.busy": "2023-11-24T01:01:22.021289Z",
     "iopub.status.idle": "2023-11-24T01:01:22.028897Z",
     "shell.execute_reply": "2023-11-24T01:01:22.027857Z"
    },
    "papermill": {
     "duration": 0.017215,
     "end_time": "2023-11-24T01:01:22.030794",
     "exception": false,
     "start_time": "2023-11-24T01:01:22.013579",
     "status": "completed"
    },
    "tags": []
   },
   "outputs": [],
   "source": [
    "train = train.drop(['Ticket', 'Cabin', 'Fare'], axis = 1)\n",
    "test = test.drop(['Ticket', 'Cabin', 'Fare'], axis = 1)"
   ]
  },
  {
   "cell_type": "markdown",
   "id": "7e3a49ae",
   "metadata": {
    "papermill": {
     "duration": 0.007209,
     "end_time": "2023-11-24T01:01:22.044944",
     "exception": false,
     "start_time": "2023-11-24T01:01:22.037735",
     "status": "completed"
    },
    "tags": []
   },
   "source": [
    "**Dealing with missing values**"
   ]
  },
  {
   "cell_type": "code",
   "execution_count": 12,
   "id": "8d02127a",
   "metadata": {
    "execution": {
     "iopub.execute_input": "2023-11-24T01:01:22.063773Z",
     "iopub.status.busy": "2023-11-24T01:01:22.063386Z",
     "iopub.status.idle": "2023-11-24T01:01:22.073279Z",
     "shell.execute_reply": "2023-11-24T01:01:22.071661Z"
    },
    "papermill": {
     "duration": 0.02183,
     "end_time": "2023-11-24T01:01:22.075332",
     "exception": false,
     "start_time": "2023-11-24T01:01:22.053502",
     "status": "completed"
    },
    "tags": []
   },
   "outputs": [
    {
     "name": "stdout",
     "output_type": "stream",
     "text": [
      "Number of people embarking in Southampton (S) : \n",
      "644\n",
      "Number of people embarking in Cherbourg (C) : \n",
      "168\n",
      "Number of people embarking in Queenstown (Q) : \n",
      "77\n"
     ]
    }
   ],
   "source": [
    "print('Number of people embarking in Southampton (S) : ')\n",
    "southampton = train[train['Embarked'] == 'S'].shape[0]\n",
    "print(southampton)\n",
    "\n",
    "print('Number of people embarking in Cherbourg (C) : ')\n",
    "cher = train[train['Embarked'] == 'C'].shape[0]\n",
    "print(cher)\n",
    "\n",
    "print('Number of people embarking in Queenstown (Q) : ')\n",
    "queen = train[train['Embarked'] == 'Q'].shape[0]\n",
    "print(queen)"
   ]
  },
  {
   "cell_type": "code",
   "execution_count": 13,
   "id": "90036745",
   "metadata": {
    "execution": {
     "iopub.execute_input": "2023-11-24T01:01:22.091244Z",
     "iopub.status.busy": "2023-11-24T01:01:22.090905Z",
     "iopub.status.idle": "2023-11-24T01:01:22.096725Z",
     "shell.execute_reply": "2023-11-24T01:01:22.095531Z"
    },
    "papermill": {
     "duration": 0.016296,
     "end_time": "2023-11-24T01:01:22.098497",
     "exception": false,
     "start_time": "2023-11-24T01:01:22.082201",
     "status": "completed"
    },
    "tags": []
   },
   "outputs": [],
   "source": [
    "train = train.fillna({'Embarked' : 'S'})"
   ]
  },
  {
   "cell_type": "code",
   "execution_count": 14,
   "id": "3e1941bc",
   "metadata": {
    "execution": {
     "iopub.execute_input": "2023-11-24T01:01:22.114021Z",
     "iopub.status.busy": "2023-11-24T01:01:22.113663Z",
     "iopub.status.idle": "2023-11-24T01:01:22.122351Z",
     "shell.execute_reply": "2023-11-24T01:01:22.121236Z"
    },
    "papermill": {
     "duration": 0.018728,
     "end_time": "2023-11-24T01:01:22.124395",
     "exception": false,
     "start_time": "2023-11-24T01:01:22.105667",
     "status": "completed"
    },
    "tags": []
   },
   "outputs": [
    {
     "data": {
      "text/plain": [
       "PassengerId    0\n",
       "Pclass         0\n",
       "Name           0\n",
       "Sex            0\n",
       "Age            0\n",
       "SibSp          0\n",
       "Parch          0\n",
       "Embarked       0\n",
       "AgeGroup       0\n",
       "dtype: int64"
      ]
     },
     "execution_count": 14,
     "metadata": {},
     "output_type": "execute_result"
    }
   ],
   "source": [
    "test.isna().sum()"
   ]
  },
  {
   "cell_type": "code",
   "execution_count": 15,
   "id": "b4987a9b",
   "metadata": {
    "execution": {
     "iopub.execute_input": "2023-11-24T01:01:22.139566Z",
     "iopub.status.busy": "2023-11-24T01:01:22.139173Z",
     "iopub.status.idle": "2023-11-24T01:01:22.167843Z",
     "shell.execute_reply": "2023-11-24T01:01:22.166670Z"
    },
    "papermill": {
     "duration": 0.039142,
     "end_time": "2023-11-24T01:01:22.170389",
     "exception": false,
     "start_time": "2023-11-24T01:01:22.131247",
     "status": "completed"
    },
    "tags": []
   },
   "outputs": [
    {
     "data": {
      "text/html": [
       "<div>\n",
       "<style scoped>\n",
       "    .dataframe tbody tr th:only-of-type {\n",
       "        vertical-align: middle;\n",
       "    }\n",
       "\n",
       "    .dataframe tbody tr th {\n",
       "        vertical-align: top;\n",
       "    }\n",
       "\n",
       "    .dataframe thead th {\n",
       "        text-align: right;\n",
       "    }\n",
       "</style>\n",
       "<table border=\"1\" class=\"dataframe\">\n",
       "  <thead>\n",
       "    <tr style=\"text-align: right;\">\n",
       "      <th>Sex</th>\n",
       "      <th>female</th>\n",
       "      <th>male</th>\n",
       "    </tr>\n",
       "    <tr>\n",
       "      <th>Title</th>\n",
       "      <th></th>\n",
       "      <th></th>\n",
       "    </tr>\n",
       "  </thead>\n",
       "  <tbody>\n",
       "    <tr>\n",
       "      <th>Capt</th>\n",
       "      <td>0</td>\n",
       "      <td>1</td>\n",
       "    </tr>\n",
       "    <tr>\n",
       "      <th>Col</th>\n",
       "      <td>0</td>\n",
       "      <td>2</td>\n",
       "    </tr>\n",
       "    <tr>\n",
       "      <th>Countess</th>\n",
       "      <td>1</td>\n",
       "      <td>0</td>\n",
       "    </tr>\n",
       "    <tr>\n",
       "      <th>Don</th>\n",
       "      <td>0</td>\n",
       "      <td>1</td>\n",
       "    </tr>\n",
       "    <tr>\n",
       "      <th>Dr</th>\n",
       "      <td>1</td>\n",
       "      <td>6</td>\n",
       "    </tr>\n",
       "    <tr>\n",
       "      <th>Jonkheer</th>\n",
       "      <td>0</td>\n",
       "      <td>1</td>\n",
       "    </tr>\n",
       "    <tr>\n",
       "      <th>Lady</th>\n",
       "      <td>1</td>\n",
       "      <td>0</td>\n",
       "    </tr>\n",
       "    <tr>\n",
       "      <th>Major</th>\n",
       "      <td>0</td>\n",
       "      <td>2</td>\n",
       "    </tr>\n",
       "    <tr>\n",
       "      <th>Master</th>\n",
       "      <td>0</td>\n",
       "      <td>40</td>\n",
       "    </tr>\n",
       "    <tr>\n",
       "      <th>Miss</th>\n",
       "      <td>182</td>\n",
       "      <td>0</td>\n",
       "    </tr>\n",
       "    <tr>\n",
       "      <th>Mlle</th>\n",
       "      <td>2</td>\n",
       "      <td>0</td>\n",
       "    </tr>\n",
       "    <tr>\n",
       "      <th>Mme</th>\n",
       "      <td>1</td>\n",
       "      <td>0</td>\n",
       "    </tr>\n",
       "    <tr>\n",
       "      <th>Mr</th>\n",
       "      <td>0</td>\n",
       "      <td>517</td>\n",
       "    </tr>\n",
       "    <tr>\n",
       "      <th>Mrs</th>\n",
       "      <td>125</td>\n",
       "      <td>0</td>\n",
       "    </tr>\n",
       "    <tr>\n",
       "      <th>Ms</th>\n",
       "      <td>1</td>\n",
       "      <td>0</td>\n",
       "    </tr>\n",
       "    <tr>\n",
       "      <th>Rev</th>\n",
       "      <td>0</td>\n",
       "      <td>6</td>\n",
       "    </tr>\n",
       "    <tr>\n",
       "      <th>Sir</th>\n",
       "      <td>0</td>\n",
       "      <td>1</td>\n",
       "    </tr>\n",
       "  </tbody>\n",
       "</table>\n",
       "</div>"
      ],
      "text/plain": [
       "Sex       female  male\n",
       "Title                 \n",
       "Capt           0     1\n",
       "Col            0     2\n",
       "Countess       1     0\n",
       "Don            0     1\n",
       "Dr             1     6\n",
       "Jonkheer       0     1\n",
       "Lady           1     0\n",
       "Major          0     2\n",
       "Master         0    40\n",
       "Miss         182     0\n",
       "Mlle           2     0\n",
       "Mme            1     0\n",
       "Mr             0   517\n",
       "Mrs          125     0\n",
       "Ms             1     0\n",
       "Rev            0     6\n",
       "Sir            0     1"
      ]
     },
     "execution_count": 15,
     "metadata": {},
     "output_type": "execute_result"
    }
   ],
   "source": [
    "combine = [train, test]\n",
    "\n",
    "for dataset in combine:\n",
    "    dataset['Title'] = dataset.Name.str.extract(' ([A-Za-z]+)\\.',expand = False)\n",
    "    \n",
    "\n",
    "pd.crosstab(train['Title'], train['Sex'])    "
   ]
  },
  {
   "cell_type": "code",
   "execution_count": 16,
   "id": "8b948d39",
   "metadata": {
    "execution": {
     "iopub.execute_input": "2023-11-24T01:01:22.187005Z",
     "iopub.status.busy": "2023-11-24T01:01:22.186613Z",
     "iopub.status.idle": "2023-11-24T01:01:22.216571Z",
     "shell.execute_reply": "2023-11-24T01:01:22.215316Z"
    },
    "papermill": {
     "duration": 0.041274,
     "end_time": "2023-11-24T01:01:22.219119",
     "exception": false,
     "start_time": "2023-11-24T01:01:22.177845",
     "status": "completed"
    },
    "tags": []
   },
   "outputs": [
    {
     "data": {
      "text/html": [
       "<div>\n",
       "<style scoped>\n",
       "    .dataframe tbody tr th:only-of-type {\n",
       "        vertical-align: middle;\n",
       "    }\n",
       "\n",
       "    .dataframe tbody tr th {\n",
       "        vertical-align: top;\n",
       "    }\n",
       "\n",
       "    .dataframe thead th {\n",
       "        text-align: right;\n",
       "    }\n",
       "</style>\n",
       "<table border=\"1\" class=\"dataframe\">\n",
       "  <thead>\n",
       "    <tr style=\"text-align: right;\">\n",
       "      <th></th>\n",
       "      <th>Title</th>\n",
       "      <th>Survived</th>\n",
       "    </tr>\n",
       "  </thead>\n",
       "  <tbody>\n",
       "    <tr>\n",
       "      <th>0</th>\n",
       "      <td>Countess</td>\n",
       "      <td>1.000000</td>\n",
       "    </tr>\n",
       "    <tr>\n",
       "      <th>1</th>\n",
       "      <td>Master</td>\n",
       "      <td>0.575000</td>\n",
       "    </tr>\n",
       "    <tr>\n",
       "      <th>2</th>\n",
       "      <td>Miss</td>\n",
       "      <td>0.702703</td>\n",
       "    </tr>\n",
       "    <tr>\n",
       "      <th>3</th>\n",
       "      <td>Mr</td>\n",
       "      <td>0.156673</td>\n",
       "    </tr>\n",
       "    <tr>\n",
       "      <th>4</th>\n",
       "      <td>Mrs</td>\n",
       "      <td>0.793651</td>\n",
       "    </tr>\n",
       "    <tr>\n",
       "      <th>5</th>\n",
       "      <td>Rare</td>\n",
       "      <td>0.285714</td>\n",
       "    </tr>\n",
       "    <tr>\n",
       "      <th>6</th>\n",
       "      <td>Royal</td>\n",
       "      <td>1.000000</td>\n",
       "    </tr>\n",
       "  </tbody>\n",
       "</table>\n",
       "</div>"
      ],
      "text/plain": [
       "      Title  Survived\n",
       "0  Countess  1.000000\n",
       "1    Master  0.575000\n",
       "2      Miss  0.702703\n",
       "3        Mr  0.156673\n",
       "4       Mrs  0.793651\n",
       "5      Rare  0.285714\n",
       "6     Royal  1.000000"
      ]
     },
     "execution_count": 16,
     "metadata": {},
     "output_type": "execute_result"
    }
   ],
   "source": [
    "for dataset in combine:\n",
    "    dataset['Title'] = dataset['Title'].replace(['Lady', 'Capt', 'Col', 'Don', 'Dr', 'Major', 'Rev', 'Jonkheer', 'Dona'], 'Rare')\n",
    "    dataset['Title'] = dataset['Title'].replace(['Countless', 'Lady', 'Sir'], 'Royal')\n",
    "    dataset['Title'] = dataset['Title'].replace('Mlle', 'Miss')\n",
    "    dataset['Title'] = dataset['Title'].replace('Ms', 'Miss')\n",
    "    dataset['Title'] = dataset['Title'].replace('Mme', 'Mrs')\n",
    "    \n",
    "train[['Title', 'Survived']].groupby(['Title'], as_index = False).mean()    "
   ]
  },
  {
   "cell_type": "code",
   "execution_count": 17,
   "id": "87d725a1",
   "metadata": {
    "execution": {
     "iopub.execute_input": "2023-11-24T01:01:22.235082Z",
     "iopub.status.busy": "2023-11-24T01:01:22.234657Z",
     "iopub.status.idle": "2023-11-24T01:01:22.254470Z",
     "shell.execute_reply": "2023-11-24T01:01:22.253288Z"
    },
    "papermill": {
     "duration": 0.030633,
     "end_time": "2023-11-24T01:01:22.256979",
     "exception": false,
     "start_time": "2023-11-24T01:01:22.226346",
     "status": "completed"
    },
    "tags": []
   },
   "outputs": [
    {
     "data": {
      "text/html": [
       "<div>\n",
       "<style scoped>\n",
       "    .dataframe tbody tr th:only-of-type {\n",
       "        vertical-align: middle;\n",
       "    }\n",
       "\n",
       "    .dataframe tbody tr th {\n",
       "        vertical-align: top;\n",
       "    }\n",
       "\n",
       "    .dataframe thead th {\n",
       "        text-align: right;\n",
       "    }\n",
       "</style>\n",
       "<table border=\"1\" class=\"dataframe\">\n",
       "  <thead>\n",
       "    <tr style=\"text-align: right;\">\n",
       "      <th></th>\n",
       "      <th>PassengerId</th>\n",
       "      <th>Survived</th>\n",
       "      <th>Pclass</th>\n",
       "      <th>Name</th>\n",
       "      <th>Sex</th>\n",
       "      <th>Age</th>\n",
       "      <th>SibSp</th>\n",
       "      <th>Parch</th>\n",
       "      <th>Embarked</th>\n",
       "      <th>AgeGroup</th>\n",
       "      <th>Title</th>\n",
       "    </tr>\n",
       "  </thead>\n",
       "  <tbody>\n",
       "    <tr>\n",
       "      <th>0</th>\n",
       "      <td>1</td>\n",
       "      <td>0</td>\n",
       "      <td>3</td>\n",
       "      <td>Braund, Mr. Owen Harris</td>\n",
       "      <td>male</td>\n",
       "      <td>22.0</td>\n",
       "      <td>1</td>\n",
       "      <td>0</td>\n",
       "      <td>S</td>\n",
       "      <td>Student</td>\n",
       "      <td>1.0</td>\n",
       "    </tr>\n",
       "    <tr>\n",
       "      <th>1</th>\n",
       "      <td>2</td>\n",
       "      <td>1</td>\n",
       "      <td>1</td>\n",
       "      <td>Cumings, Mrs. John Bradley (Florence Briggs Th...</td>\n",
       "      <td>female</td>\n",
       "      <td>38.0</td>\n",
       "      <td>1</td>\n",
       "      <td>0</td>\n",
       "      <td>C</td>\n",
       "      <td>Adult</td>\n",
       "      <td>3.0</td>\n",
       "    </tr>\n",
       "    <tr>\n",
       "      <th>2</th>\n",
       "      <td>3</td>\n",
       "      <td>1</td>\n",
       "      <td>3</td>\n",
       "      <td>Heikkinen, Miss. Laina</td>\n",
       "      <td>female</td>\n",
       "      <td>26.0</td>\n",
       "      <td>0</td>\n",
       "      <td>0</td>\n",
       "      <td>S</td>\n",
       "      <td>Young Adult</td>\n",
       "      <td>2.0</td>\n",
       "    </tr>\n",
       "    <tr>\n",
       "      <th>3</th>\n",
       "      <td>4</td>\n",
       "      <td>1</td>\n",
       "      <td>1</td>\n",
       "      <td>Futrelle, Mrs. Jacques Heath (Lily May Peel)</td>\n",
       "      <td>female</td>\n",
       "      <td>35.0</td>\n",
       "      <td>1</td>\n",
       "      <td>0</td>\n",
       "      <td>S</td>\n",
       "      <td>Young Adult</td>\n",
       "      <td>3.0</td>\n",
       "    </tr>\n",
       "    <tr>\n",
       "      <th>4</th>\n",
       "      <td>5</td>\n",
       "      <td>0</td>\n",
       "      <td>3</td>\n",
       "      <td>Allen, Mr. William Henry</td>\n",
       "      <td>male</td>\n",
       "      <td>35.0</td>\n",
       "      <td>0</td>\n",
       "      <td>0</td>\n",
       "      <td>S</td>\n",
       "      <td>Young Adult</td>\n",
       "      <td>1.0</td>\n",
       "    </tr>\n",
       "  </tbody>\n",
       "</table>\n",
       "</div>"
      ],
      "text/plain": [
       "   PassengerId  Survived  Pclass  \\\n",
       "0            1         0       3   \n",
       "1            2         1       1   \n",
       "2            3         1       3   \n",
       "3            4         1       1   \n",
       "4            5         0       3   \n",
       "\n",
       "                                                Name     Sex   Age  SibSp  \\\n",
       "0                            Braund, Mr. Owen Harris    male  22.0      1   \n",
       "1  Cumings, Mrs. John Bradley (Florence Briggs Th...  female  38.0      1   \n",
       "2                             Heikkinen, Miss. Laina  female  26.0      0   \n",
       "3       Futrelle, Mrs. Jacques Heath (Lily May Peel)  female  35.0      1   \n",
       "4                           Allen, Mr. William Henry    male  35.0      0   \n",
       "\n",
       "   Parch Embarked     AgeGroup  Title  \n",
       "0      0        S      Student    1.0  \n",
       "1      0        C        Adult    3.0  \n",
       "2      0        S  Young Adult    2.0  \n",
       "3      0        S  Young Adult    3.0  \n",
       "4      0        S  Young Adult    1.0  "
      ]
     },
     "execution_count": 17,
     "metadata": {},
     "output_type": "execute_result"
    }
   ],
   "source": [
    "title_mapping = {'Mr':1, 'Miss':2, 'Mrs':3, 'Master':4, 'Royal':5, 'Rare':6}\n",
    "\n",
    "for dataset in combine:\n",
    "    dataset['Title'] = dataset['Title'].map(title_mapping)\n",
    "    dataset['Title'] = dataset['Title'].fillna(0)\n",
    "    \n",
    "train.head()    "
   ]
  },
  {
   "cell_type": "code",
   "execution_count": null,
   "id": "769be8bb",
   "metadata": {
    "papermill": {
     "duration": 0.007281,
     "end_time": "2023-11-24T01:01:22.272476",
     "exception": false,
     "start_time": "2023-11-24T01:01:22.265195",
     "status": "completed"
    },
    "tags": []
   },
   "outputs": [],
   "source": []
  },
  {
   "cell_type": "code",
   "execution_count": null,
   "id": "2a24ca51",
   "metadata": {
    "papermill": {
     "duration": 0.007145,
     "end_time": "2023-11-24T01:01:22.287348",
     "exception": false,
     "start_time": "2023-11-24T01:01:22.280203",
     "status": "completed"
    },
    "tags": []
   },
   "outputs": [],
   "source": []
  },
  {
   "cell_type": "code",
   "execution_count": null,
   "id": "a7775d66",
   "metadata": {
    "papermill": {
     "duration": 0.007242,
     "end_time": "2023-11-24T01:01:22.302394",
     "exception": false,
     "start_time": "2023-11-24T01:01:22.295152",
     "status": "completed"
    },
    "tags": []
   },
   "outputs": [],
   "source": []
  },
  {
   "cell_type": "code",
   "execution_count": null,
   "id": "18a34f11",
   "metadata": {
    "papermill": {
     "duration": 0.007188,
     "end_time": "2023-11-24T01:01:22.317065",
     "exception": false,
     "start_time": "2023-11-24T01:01:22.309877",
     "status": "completed"
    },
    "tags": []
   },
   "outputs": [],
   "source": []
  },
  {
   "cell_type": "code",
   "execution_count": null,
   "id": "370cf350",
   "metadata": {
    "papermill": {
     "duration": 0.007027,
     "end_time": "2023-11-24T01:01:22.331622",
     "exception": false,
     "start_time": "2023-11-24T01:01:22.324595",
     "status": "completed"
    },
    "tags": []
   },
   "outputs": [],
   "source": []
  },
  {
   "cell_type": "code",
   "execution_count": null,
   "id": "4a83fa7a",
   "metadata": {
    "papermill": {
     "duration": 0.007008,
     "end_time": "2023-11-24T01:01:22.346166",
     "exception": false,
     "start_time": "2023-11-24T01:01:22.339158",
     "status": "completed"
    },
    "tags": []
   },
   "outputs": [],
   "source": []
  }
 ],
 "metadata": {
  "kaggle": {
   "accelerator": "none",
   "dataSources": [
    {
     "databundleVersionId": 26502,
     "sourceId": 3136,
     "sourceType": "competition"
    }
   ],
   "dockerImageVersionId": 30587,
   "isGpuEnabled": false,
   "isInternetEnabled": false,
   "language": "python",
   "sourceType": "notebook"
  },
  "kernelspec": {
   "display_name": "Python 3",
   "language": "python",
   "name": "python3"
  },
  "language_info": {
   "codemirror_mode": {
    "name": "ipython",
    "version": 3
   },
   "file_extension": ".py",
   "mimetype": "text/x-python",
   "name": "python",
   "nbconvert_exporter": "python",
   "pygments_lexer": "ipython3",
   "version": "3.10.12"
  },
  "papermill": {
   "default_parameters": {},
   "duration": 6.319617,
   "end_time": "2023-11-24T01:01:22.874308",
   "environment_variables": {},
   "exception": null,
   "input_path": "__notebook__.ipynb",
   "output_path": "__notebook__.ipynb",
   "parameters": {},
   "start_time": "2023-11-24T01:01:16.554691",
   "version": "2.4.0"
  }
 },
 "nbformat": 4,
 "nbformat_minor": 5
}
